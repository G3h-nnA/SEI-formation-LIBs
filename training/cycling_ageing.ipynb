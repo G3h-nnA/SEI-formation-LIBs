{
 "cells": [
  {
   "cell_type": "code",
   "execution_count": 1,
   "metadata": {},
   "outputs": [
    {
     "name": "stderr",
     "output_type": "stream",
     "text": [
      "c:\\ProgramData\\anaconda3\\Lib\\site-packages\\paramiko\\transport.py:219: CryptographyDeprecationWarning: Blowfish has been deprecated and will be removed in a future release\n",
      "  \"class\": algorithms.Blowfish,\n"
     ]
    }
   ],
   "source": [
    "import pybamm as pb"
   ]
  },
  {
   "cell_type": "code",
   "execution_count": 2,
   "metadata": {},
   "outputs": [],
   "source": [
    "model = pb.lithium_ion.DFN({\n",
    "    \"SEI\": \"solvent-diffusion limited\",\n",
    "    \"SEI film resistance\": \"distributed\",\n",
    "    \"SEI porosity change\": \"true\",\n",
    "    \"lithium plating\": \"irreversible\",\n",
    "    \"lithium plating porosity change\": \"true\"\n",
    "})\n",
    "\n",
    "parameter_values = pb.ParameterValues(\"OKane2022\")\n",
    "\n",
    "exp = pb.Experiment(\n",
    "    [\n",
    "        (\n",
    "            \"Charge at 1C until 4.2V\",\n",
    "            \"Hold at 4.2V until C/10\",\n",
    "            \"Rest for 1 hour\",\n",
    "            \"Discharge at 1C until 2.8V\",\n",
    "            \"Rest for 1 hour\",\n",
    "        )\n",
    "    ] *2\n",
    "\n",
    "    + [\n",
    "        (\n",
    "            \"Charge at 1C until 4.2V\",\n",
    "            \"Hold at 4.2V until C/20\",\n",
    "            \"Rest for 1 hour\",\n",
    "            \"Discharge at C/3 until 2.8V\",\n",
    "            \"Rest for 1 hour\",\n",
    "        ),\n",
    "        (\n",
    "            \"Charge at 1C until 4.2V\",\n",
    "            \"Hold at 4.2V until C/20\",\n",
    "            \"Rest for 1 hour\",\n",
    "            \"Discharge at 2C until 2.8V\",\n",
    "            \"Rest for 1 hour\",\n",
    "        ),\n",
    "        (\n",
    "            \"Charge at 1C until 4.2V\",\n",
    "            \"Hold at 4.2V until C/20\",\n",
    "            \"Rest for 1 hour\",\n",
    "            \"Discharge at 3C until 2.8V\",\n",
    "            \"Rest for 1 hour\",\n",
    "        ),\n",
    "    ]\n",
    ")"
   ]
  },
  {
   "cell_type": "code",
   "execution_count": 7,
   "metadata": {},
   "outputs": [
    {
     "data": {
      "application/vnd.jupyter.widget-view+json": {
       "model_id": "9d1db5e8bf8246a2a2117661d48ff7db",
       "version_major": 2,
       "version_minor": 0
      },
      "text/plain": [
       "interactive(children=(FloatSlider(value=0.0, description='t', max=21.061108104692988, step=0.21061108104692988…"
      ]
     },
     "metadata": {},
     "output_type": "display_data"
    },
    {
     "data": {
      "text/plain": [
       "<pybamm.plotting.quick_plot.QuickPlot at 0x19397b0aa20>"
      ]
     },
     "execution_count": 7,
     "metadata": {},
     "output_type": "execute_result"
    }
   ],
   "source": [
    "sim = pb.Simulation(\n",
    "    model,\n",
    "    experiment=exp,\n",
    "    parameter_values=parameter_values,\n",
    ")\n",
    "\n",
    "sim.solve(solver=pb.CasadiSolver(mode=\"fast with events\"))\n",
    "sim.plot([\n",
    "    \"Current [A]\",\n",
    "    \"Total current density [A.m-2]\",\n",
    "    \"Voltage [V]\",\n",
    "    \"Discharge capacity [A.h]\",\n",
    "    \"Electrolyte potential [V]\",\n",
    "    \"Electrolyte concentration [mol.m-3]\",\n",
    "    \"Negative total SEI thickness [m]\",\n",
    "    \"Negative electrode porosity\",\n",
    "    \"X-averaged negative electrode porosity\",\n",
    "    \"X-averaged negative electrode SEI interfacial current density [A.m-2]\",\n",
    "    \"X-averaged negative total SEI thickness [m]\",\n",
    "\n",
    "    [\n",
    "        \"Total lithium lost [mol]\",\n",
    "        \"Loss of lithium to negative SEI [mol]\",\n",
    "    ]\n",
    "])"
   ]
  }
 ],
 "metadata": {
  "kernelspec": {
   "display_name": "base",
   "language": "python",
   "name": "python3"
  },
  "language_info": {
   "codemirror_mode": {
    "name": "ipython",
    "version": 3
   },
   "file_extension": ".py",
   "mimetype": "text/x-python",
   "name": "python",
   "nbconvert_exporter": "python",
   "pygments_lexer": "ipython3",
   "version": "3.12.3"
  }
 },
 "nbformat": 4,
 "nbformat_minor": 2
}
