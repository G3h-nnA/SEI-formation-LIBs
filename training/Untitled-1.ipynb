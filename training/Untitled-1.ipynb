{
 "cells": [
  {
   "cell_type": "code",
   "execution_count": null,
   "metadata": {},
   "outputs": [],
   "source": [
    "!pip install pybamm\n",
    "import pybamm as pb"
   ]
  },
  {
   "cell_type": "code",
   "execution_count": null,
   "metadata": {},
   "outputs": [],
   "source": [
    "import os\n",
    "os.chdir(pybamm.__path__[0] + \"/..\")\n",
    "\n",
    "# initialise the model\n",
    "model = pb.BaseModel()"
   ]
  },
  {
   "cell_type": "code",
   "execution_count": null,
   "metadata": {},
   "outputs": [],
   "source": [
    "# dimensional parameters\n",
    "k = pb.Parameter(\"Reaction rate constant [m.s-1]\")\n",
    "L_0 = pb.Parameter(\"Initial thickness [m]\")\n",
    "V_hat = pb.Parameter(\"Partial molar volume [m3.mol-1]\")\n",
    "c_inf = pb.Parameter(\"Bulk electrolyte solvent concentration [mol.m-3]\")\n",
    "\n",
    "\n",
    "def D(cc):\n",
    "    return pb.FunctionParameter(\n",
    "        \"Diffusivity [m2.s-1]\", {\"Solvent concentration [mol.m-3]\": cc}\n",
    "    )\n",
    "\n",
    "\n",
    "# define dimensionless parameters in the model\n",
    "xi = pb.SpatialVariable(\"xi\", domain=\"SEI layer\", coord_sys=\"cartesian\")\n",
    "c = pb.Variable(\"Solvent concentration [mol.m-3]\", domain=\"SEI layer\")\n",
    "L = pb.Variable(\"SEI thickness [m]\")"
   ]
  },
  {
   "cell_type": "code",
   "execution_count": null,
   "metadata": {},
   "outputs": [],
   "source": [
    "# governing equations\n",
    "\n",
    "# SEI reaction flux\n",
    "R = k * pb.BoundaryValue(c, \"left\")\n",
    "\n",
    "# solvent concentration equation\n",
    "N = -1 / L * D(c) * pb.grad(c)\n",
    "dcdt = (V_hat * R) / L * pb.inner(xi, pb.grad(c)) - 1 / L * pb.div(N)\n",
    "\n",
    "# SEI thickness equation\n",
    "dLdt = V_hat * R\n",
    "\n",
    "# add equations to dictionary\n",
    "# keys = variables to be solved, values = RHS of governing equations for each variable\n",
    "model.rhs = {c: dcdt, L: dLdt}"
   ]
  },
  {
   "cell_type": "code",
   "execution_count": null,
   "metadata": {},
   "outputs": [],
   "source": [
    "# Boundary conditions\n",
    "D_left = pb.BoundaryValue(\n",
    "    D(c), \"left\"\n",
    ")  # pb requires BoundaryValue(D(c)) and not D(BoundaryValue(c))\n",
    "grad_c_left = R * L / D_left\n",
    "\n",
    "c_right = c_inf\n",
    "\n",
    "model.boundary_conditions = {\n",
    "    c: {\"left\": (grad_c_left, \"Neumann\"), \"right\": (c_right, \"Dirichlet\")}\n",
    "}"
   ]
  },
  {
   "cell_type": "code",
   "execution_count": null,
   "metadata": {},
   "outputs": [],
   "source": [
    "# set initial conditions\n",
    "c_init = c_inf\n",
    "L_init = L_0\n",
    "model.initial_conditions = {c: c_init, L: L_init}"
   ]
  },
  {
   "cell_type": "code",
   "execution_count": null,
   "metadata": {},
   "outputs": [],
   "source": [
    "# output variables\n",
    "model.variables = {\n",
    "    \"SEI thickness [m]\": L,\n",
    "    \"SEI growth rate [m]\": dLdt,\n",
    "    \"Solvent concentration [mol.m-3]\": c,\n",
    "}"
   ]
  },
  {
   "cell_type": "code",
   "execution_count": null,
   "metadata": {},
   "outputs": [],
   "source": [
    "# define geometry\n",
    "geometry = pb.Geometry(\n",
    "    {\"SEI layer\": {xi: {\"min\": pb.Scalar(0), \"max\": pb.Scalar(1)}}}\n",
    ")\n",
    "\n",
    "\n",
    "def Diffusivity(cc):\n",
    "    return cc * 10 ** (-12)\n",
    "\n",
    "\n",
    "# parameter values (not physically based, for example only!)\n",
    "param = pb.ParameterValues(\n",
    "    {\n",
    "        \"Reaction rate constant [m.s-1]\": 1e-6,\n",
    "        \"Initial thickness [m]\": 1e-6,\n",
    "        \"Partial molar volume [m3.mol-1]\": 10,\n",
    "        \"Bulk electrolyte solvent concentration [mol.m-3]\": 1,\n",
    "        \"Diffusivity [m2.s-1]\": Diffusivity,\n",
    "    }\n",
    ")\n",
    "\n",
    "# process model and geometry\n",
    "param.process_model(model)\n",
    "param.process_geometry(geometry)\n",
    "\n",
    "# mesh and discretise\n",
    "submesh_types = {\"SEI layer\": pb.Uniform1DSubMesh}\n",
    "var_pts = {xi: 100}\n",
    "mesh = pb.Mesh(geometry, submesh_types, var_pts)\n",
    "\n",
    "spatial_methods = {\"SEI layer\": pb.FiniteVolume()}\n",
    "disc = pb.Discretisation(mesh, spatial_methods)\n",
    "disc.process_model(model)"
   ]
  },
  {
   "cell_type": "code",
   "execution_count": null,
   "metadata": {},
   "outputs": [],
   "source": [
    "# solve\n",
    "solver = pb.ScipySolver()\n",
    "t = [0, 100]  # solve for 100s\n",
    "solution = solver.solve(model, t)\n",
    "\n",
    "# post-process output variables\n",
    "L_out = solution[\"SEI thickness [m]\"]\n",
    "c_out = solution[\"Solvent concentration [mol.m-3]\"]"
   ]
  },
  {
   "cell_type": "code",
   "execution_count": null,
   "metadata": {},
   "outputs": [],
   "source": [
    "# plotting the results\n",
    "import matplotlib.pyplot as plt\n",
    "import numpy as np\n",
    "\n",
    "# plot SEI thickness in microns as a function of t in microseconds\n",
    "# and concentration in mol/m3 as a function of x in microns\n",
    "L_0_eval = param.evaluate(L_0)\n",
    "xi = np.linspace(0, 1, 100)  # dimensionless space\n",
    "\n",
    "\n",
    "def plot(t):\n",
    "    _, (ax1, ax2) = plt.subplots(1, 2, figsize=(10, 5))\n",
    "    ax1.plot(solution.t, L_out(solution.t) * 1e6)\n",
    "    ax1.plot(t, L_out(t) * 1e6, \"r.\")\n",
    "    ax1.set_ylabel(r\"SEI thickness [$\\mu$m]\")\n",
    "    ax1.set_xlabel(r\"t [s]\")\n",
    "\n",
    "    ax2.plot(xi * L_out(t) * 1e6, c_out(t, xi))\n",
    "    ax2.set_ylim(0, 1.1)\n",
    "    ax2.set_xlim(0, L_out(solution.t[-1]) * 1e6)\n",
    "    ax2.set_ylabel(\"Solvent concentration [mol.m-3]\")\n",
    "    ax2.set_xlabel(r\"x [$\\mu$m]\")\n",
    "\n",
    "    plt.tight_layout()\n",
    "    plt.show()\n",
    "\n",
    "\n",
    "import ipywidgets as widgets\n",
    "\n",
    "widgets.interact(\n",
    "    plot, t=widgets.FloatSlider(min=0, max=solution.t[-1], step=0.1, value=0)\n",
    ");"
   ]
  }
 ],
 "metadata": {
  "kernelspec": {
   "display_name": "base",
   "language": "python",
   "name": "python3"
  },
  "language_info": {
   "codemirror_mode": {
    "name": "ipython",
    "version": 3
   },
   "file_extension": ".py",
   "mimetype": "text/x-python",
   "name": "python",
   "nbconvert_exporter": "python",
   "pygments_lexer": "ipython3",
   "version": "3.12.3"
  }
 },
 "nbformat": 4,
 "nbformat_minor": 2
}
