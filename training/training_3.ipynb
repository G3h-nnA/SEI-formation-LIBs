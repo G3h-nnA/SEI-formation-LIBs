{
 "cells": [
  {
   "cell_type": "markdown",
   "metadata": {},
   "source": [
    "## Parameter sets\n",
    "Change, create and use user-defined parameter sets"
   ]
  },
  {
   "cell_type": "code",
   "execution_count": null,
   "metadata": {},
   "outputs": [],
   "source": [
    "!pip install pybamm\n",
    "import pybamm as pb"
   ]
  },
  {
   "cell_type": "code",
   "execution_count": null,
   "metadata": {},
   "outputs": [],
   "source": [
    "# parameter values are held in a dictionary, which can be looked up via:\n",
    "parameter_values = pb.ParameterValues(\"Marquis2019\")\n",
    "print(parameter_values[\"Upper voltage cut-off [V]\"])\n",
    "print(parameter_values[\"Lower voltage cut-off [V]\"])\n",
    "\n",
    "# initialise the model\n",
    "model = pb.lithium_ion.DFN()"
   ]
  },
  {
   "cell_type": "code",
   "execution_count": null,
   "metadata": {},
   "outputs": [],
   "source": [
    "experiment3 = pb.Experiment(\n",
    "    # Initialize\n",
    "    [\n",
    "        \"Hold at 4.2 V until C/100\",\n",
    "        \"Rest for 4 hours\",\n",
    "    ]\n",
    "    # Capacity check\n",
    "    + [(\n",
    "        \"Discharge at C/10 until 2.5 V\",\n",
    "        \"Charge at C/10 until 4.2 V\",\n",
    "        \"Hold at 4.2 V until C/100\"\n",
    "    )]\n",
    "    # Ageing cycles\n",
    "    + [(\n",
    "        \"Discharge at 1C until 2.5 V\",\n",
    "        \"Charge at 0.3C until 4.2 V\",\n",
    "        \"Hold at 4.2 V until C/100\",\n",
    "    )] * 10\n",
    "    # Capacity check\n",
    "    + [(\n",
    "        \"Discharge at C/10 until 2.5 V\",\n",
    "        \"Charge at C/10 until 4.2 V\",\n",
    "        \"Hold at 4.2 V until C/100\"\n",
    "    )]\n",
    ")\n",
    "\n",
    "# attempt simulation using this set\n",
    "simulation3 = pb.Simulation(model, experiment=experiment3)\n",
    "solution = simulation3.solve([0, 3600])\n",
    "simulation3.plot()"
   ]
  },
  {
   "cell_type": "code",
   "execution_count": null,
   "metadata": {},
   "outputs": [],
   "source": [
    "# attempt simulation using \"OKane2022\" parameter set\n",
    "parameter_values = \"OKane2022\" \n",
    "simulation3 = pb.Simulation(\n",
    "    model,\n",
    "    experiment=experiment3,\n",
    "    parameter_values=parameter_values\n",
    ")\n",
    "simulation3.plot()"
   ]
  },
  {
   "cell_type": "code",
   "execution_count": null,
   "metadata": {},
   "outputs": [],
   "source": [
    "# change/update the parameter set for a more significant degradation\n",
    "parameter_values.update({\n",
    "    \"Outer SEI solvent diffusivity [m2.s-1]\": 1.25e-20,\n",
    "    \"Lithium plating kinetic rate constant [m.s-1]\": 1e-8,\n",
    "    \"Dead lithium decay constant [s-1]\": 4e-6,\n",
    "    \"Negative electrode cracking rate\": 1.95e-18,\n",
    "    \"Negative electrode LAM constant proportional term [s-1]\": 5.5556e-6,\n",
    "    \"Positive electrode LAM constant proportional term [s-1]\": 5.5556e-6,\n",
    "})\n",
    "\n",
    "simulation3 = pb.Simulation(\n",
    "    model,\n",
    "    experiment=experiment3,\n",
    "    parameter_values=parameter_values\n",
    ")\n",
    "simulation3.plot()"
   ]
  },
  {
   "cell_type": "markdown",
   "metadata": {},
   "source": [
    "You can create and import your own parameter sets:\n",
    "\n",
    "```python\n",
    "from your_parameter_set import get_parameter_values\n",
    "parameter_values = get_parameter_values()\n",
    "```"
   ]
  },
  {
   "cell_type": "markdown",
   "metadata": {},
   "source": [
    "## Input parameters\n",
    "\n",
    "This is useful for wanting to see how one or a small subset of parameter affects the solution. Instead of recreating a \"simulation\" object, use an \"input parameter\":"
   ]
  },
  {
   "cell_type": "code",
   "execution_count": null,
   "metadata": {},
   "outputs": [],
   "source": [
    "parameter_values = pb.ParameterValues(\"Marquis2019\")\n",
    "parameter_values.update({\n",
    "    \"Current function [A]\": \"[input]\",\n",
    "})\n",
    "\n",
    "# allows input of a parameter when the model gets solved\n",
    "simulation = pb.Simulation(\n",
    "    model,\n",
    "    parameter_values=parameter_values\n",
    ")\n",
    "solution = simulation.solve([0, 3600], inputs={\"Current function [A]\": 2})"
   ]
  }
 ],
 "metadata": {
  "language_info": {
   "name": "python"
  }
 },
 "nbformat": 4,
 "nbformat_minor": 2
}
