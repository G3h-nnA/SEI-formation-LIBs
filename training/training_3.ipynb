{
 "cells": [
  {
   "cell_type": "markdown",
   "metadata": {},
   "source": [
    "## Parameter sets\n",
    "Change, create and use user-defined parameter sets"
   ]
  },
  {
   "cell_type": "code",
   "execution_count": 1,
   "metadata": {},
   "outputs": [
    {
     "name": "stdout",
     "output_type": "stream",
     "text": [
      "Requirement already satisfied: pybamm in c:\\programdata\\anaconda3\\lib\\site-packages (25.6.0)\n",
      "Requirement already satisfied: anytree>=2.8.0 in c:\\programdata\\anaconda3\\lib\\site-packages (from pybamm) (2.13.0)\n",
      "Requirement already satisfied: casadi==3.6.7 in c:\\programdata\\anaconda3\\lib\\site-packages (from pybamm) (3.6.7)\n",
      "Requirement already satisfied: numpy<2.0.0,>=1.23.5 in c:\\programdata\\anaconda3\\lib\\site-packages (from pybamm) (1.26.4)\n",
      "Requirement already satisfied: pandas>=1.5.0 in c:\\programdata\\anaconda3\\lib\\site-packages (from pybamm) (2.2.2)\n",
      "Requirement already satisfied: platformdirs in c:\\programdata\\anaconda3\\lib\\site-packages (from pybamm) (3.10.0)\n",
      "Requirement already satisfied: pooch>=1.8.1 in c:\\programdata\\anaconda3\\lib\\site-packages (from pybamm) (1.8.2)\n",
      "Requirement already satisfied: posthog in c:\\programdata\\anaconda3\\lib\\site-packages (from pybamm) (6.1.0)\n",
      "Requirement already satisfied: pybammsolvers in c:\\programdata\\anaconda3\\lib\\site-packages (from pybamm) (0.1.0)\n",
      "Requirement already satisfied: pyyaml in c:\\programdata\\anaconda3\\lib\\site-packages (from pybamm) (6.0.1)\n",
      "Requirement already satisfied: scipy>=1.11.4 in c:\\programdata\\anaconda3\\lib\\site-packages (from pybamm) (1.13.1)\n",
      "Requirement already satisfied: sympy>=1.12 in c:\\programdata\\anaconda3\\lib\\site-packages (from pybamm) (1.12)\n",
      "Requirement already satisfied: typing-extensions>=4.10.0 in c:\\programdata\\anaconda3\\lib\\site-packages (from pybamm) (4.11.0)\n",
      "Requirement already satisfied: xarray>=2022.6.0 in c:\\programdata\\anaconda3\\lib\\site-packages (from pybamm) (2023.6.0)\n",
      "Requirement already satisfied: python-dateutil>=2.8.2 in c:\\programdata\\anaconda3\\lib\\site-packages (from pandas>=1.5.0->pybamm) (2.9.0.post0)\n",
      "Requirement already satisfied: pytz>=2020.1 in c:\\programdata\\anaconda3\\lib\\site-packages (from pandas>=1.5.0->pybamm) (2024.1)\n",
      "Requirement already satisfied: tzdata>=2022.7 in c:\\programdata\\anaconda3\\lib\\site-packages (from pandas>=1.5.0->pybamm) (2023.3)\n",
      "Requirement already satisfied: packaging>=20.0 in c:\\programdata\\anaconda3\\lib\\site-packages (from pooch>=1.8.1->pybamm) (23.2)\n",
      "Requirement already satisfied: requests>=2.19.0 in c:\\programdata\\anaconda3\\lib\\site-packages (from pooch>=1.8.1->pybamm) (2.32.2)\n",
      "Requirement already satisfied: mpmath>=0.19 in c:\\programdata\\anaconda3\\lib\\site-packages (from sympy>=1.12->pybamm) (1.3.0)\n",
      "Requirement already satisfied: six>=1.5 in c:\\programdata\\anaconda3\\lib\\site-packages (from posthog->pybamm) (1.16.0)\n",
      "Requirement already satisfied: backoff>=1.10.0 in c:\\programdata\\anaconda3\\lib\\site-packages (from posthog->pybamm) (2.2.1)\n",
      "Requirement already satisfied: distro>=1.5.0 in c:\\programdata\\anaconda3\\lib\\site-packages (from posthog->pybamm) (1.9.0)\n",
      "Requirement already satisfied: charset-normalizer<4,>=2 in c:\\programdata\\anaconda3\\lib\\site-packages (from requests>=2.19.0->pooch>=1.8.1->pybamm) (2.0.4)\n",
      "Requirement already satisfied: idna<4,>=2.5 in c:\\programdata\\anaconda3\\lib\\site-packages (from requests>=2.19.0->pooch>=1.8.1->pybamm) (3.7)\n",
      "Requirement already satisfied: urllib3<3,>=1.21.1 in c:\\programdata\\anaconda3\\lib\\site-packages (from requests>=2.19.0->pooch>=1.8.1->pybamm) (2.2.2)\n",
      "Requirement already satisfied: certifi>=2017.4.17 in c:\\programdata\\anaconda3\\lib\\site-packages (from requests>=2.19.0->pooch>=1.8.1->pybamm) (2024.8.30)\n"
     ]
    },
    {
     "name": "stderr",
     "output_type": "stream",
     "text": [
      "c:\\ProgramData\\anaconda3\\Lib\\site-packages\\paramiko\\transport.py:219: CryptographyDeprecationWarning: Blowfish has been deprecated and will be removed in a future release\n",
      "  \"class\": algorithms.Blowfish,\n"
     ]
    }
   ],
   "source": [
    "!pip install pybamm\n",
    "import pybamm as pb"
   ]
  },
  {
   "cell_type": "code",
   "execution_count": 2,
   "metadata": {},
   "outputs": [
    {
     "name": "stdout",
     "output_type": "stream",
     "text": [
      "4.1\n",
      "3.105\n"
     ]
    }
   ],
   "source": [
    "# parameter values are held in a dictionary, which can be looked up via:\n",
    "parameter_values = pb.ParameterValues(\"Marquis2019\")\n",
    "print(parameter_values[\"Upper voltage cut-off [V]\"])\n",
    "print(parameter_values[\"Lower voltage cut-off [V]\"])\n",
    "\n",
    "# initialise the model\n",
    "model = pb.lithium_ion.DFN()"
   ]
  },
  {
   "cell_type": "code",
   "execution_count": 3,
   "metadata": {},
   "outputs": [
    {
     "name": "stderr",
     "output_type": "stream",
     "text": [
      "c:\\ProgramData\\anaconda3\\Lib\\site-packages\\pybamm\\simulation.py:120: UserWarning: The default solver changed to IDAKLUSolver after the v25.4.0. release. You can swap back to the previous default by using `pybamm.CasadiSolver()` instead.\n",
      "  self._solver = solver or self._model.default_solver\n",
      "2025-07-15 10:45:55.487 - [WARNING] simulation.solve(551): Ignoring t_eval as solution times are specified by the experiment\n"
     ]
    },
    {
     "data": {
      "application/vnd.jupyter.widget-view+json": {
       "model_id": "246952a8558943b7bce10abcbedff9f6",
       "version_major": 2,
       "version_minor": 0
      },
      "text/plain": [
       "interactive(children=(FloatSlider(value=0.0, description='t', max=121.18261591527377, step=1.2118261591527377)…"
      ]
     },
     "metadata": {},
     "output_type": "display_data"
    },
    {
     "data": {
      "text/plain": [
       "<pybamm.plotting.quick_plot.QuickPlot at 0x2672729d070>"
      ]
     },
     "execution_count": 3,
     "metadata": {},
     "output_type": "execute_result"
    }
   ],
   "source": [
    "experiment3 = pb.Experiment(\n",
    "    # Initialize\n",
    "    [\n",
    "        \"Hold at 4.2 V until C/100\",\n",
    "        \"Rest for 4 hours\",\n",
    "    ]\n",
    "    # Capacity check\n",
    "    + [(\n",
    "        \"Discharge at C/10 until 2.5 V\",\n",
    "        \"Charge at C/10 until 4.2 V\",\n",
    "        \"Hold at 4.2 V until C/100\"\n",
    "    )]\n",
    "    # Ageing cycles\n",
    "    + [(\n",
    "        \"Discharge at 1C until 2.5 V\",\n",
    "        \"Charge at 0.3C until 4.2 V\",\n",
    "        \"Hold at 4.2 V until C/100\",\n",
    "    )] * 10\n",
    "    # Capacity check\n",
    "    + [(\n",
    "        \"Discharge at C/10 until 2.5 V\",\n",
    "        \"Charge at C/10 until 4.2 V\",\n",
    "        \"Hold at 4.2 V until C/100\"\n",
    "    )]\n",
    ")\n",
    "\n",
    "# attempt simulation using this set\n",
    "simulation3 = pb.Simulation(model, experiment=experiment3)\n",
    "solution = simulation3.solve([0, 3600])\n",
    "simulation3.plot()"
   ]
  },
  {
   "cell_type": "code",
   "execution_count": 9,
   "metadata": {},
   "outputs": [
    {
     "name": "stdout",
     "output_type": "stream",
     "text": [
      "{'Ambient temperature [K]': 298.15,\n",
      " 'Boltzmann constant [J.K-1]': 1.380649e-23,\n",
      " 'Bulk solvent concentration [mol.m-3]': 2636.0,\n",
      " 'Cation transference number': 0.2594,\n",
      " 'Cell cooling surface area [m2]': 0.00531,\n",
      " 'Cell thermal expansion coefficient [m.K-1]': 1.1e-06,\n",
      " 'Cell volume [m3]': 2.42e-05,\n",
      " 'Contact resistance [Ohm]': 0,\n",
      " 'Current function [A]': 5.0,\n",
      " 'Dead lithium decay constant [s-1]': 1e-06,\n",
      " 'Dead lithium decay rate [s-1]': <function SEI_limited_dead_lithium_OKane2022 at 0x000002672C6F0EA0>,\n",
      " 'EC diffusivity [m2.s-1]': 2e-18,\n",
      " 'EC initial concentration in electrolyte [mol.m-3]': 4541.0,\n",
      " 'Electrode height [m]': 0.065,\n",
      " 'Electrode width [m]': 1.58,\n",
      " 'Electrolyte conductivity [S.m-1]': <function electrolyte_conductivity_Nyman2008_arrhenius at 0x000002672C6F1300>,\n",
      " 'Electrolyte diffusivity [m2.s-1]': <function electrolyte_diffusivity_Nyman2008_arrhenius at 0x000002672C6F1A80>,\n",
      " 'Electron charge [C]': 1.602176634e-19,\n",
      " 'Exchange-current density for plating [A.m-2]': <function plating_exchange_current_density_OKane2020 at 0x000002672C6F1620>,\n",
      " 'Exchange-current density for stripping [A.m-2]': <function stripping_exchange_current_density_OKane2020 at 0x000002672C6F0040>,\n",
      " 'Faraday constant [C.mol-1]': 96485.33212,\n",
      " 'Ideal gas constant [J.K-1.mol-1]': 8.314462618,\n",
      " 'Initial SEI on cracks thickness [m]': 5e-13,\n",
      " 'Initial SEI thickness [m]': 5e-09,\n",
      " 'Initial concentration in electrolyte [mol.m-3]': 1000.0,\n",
      " 'Initial concentration in negative electrode [mol.m-3]': 29866.0,\n",
      " 'Initial concentration in positive electrode [mol.m-3]': 17038.0,\n",
      " 'Initial plated lithium concentration [mol.m-3]': 0.0,\n",
      " 'Initial temperature [K]': 298.15,\n",
      " 'Lithium interstitial reference concentration [mol.m-3]': 15.0,\n",
      " 'Lithium metal partial molar volume [m3.mol-1]': 1.3e-05,\n",
      " 'Lithium plating kinetic rate constant [m.s-1]': 1e-09,\n",
      " 'Lithium plating transfer coefficient': 0.65,\n",
      " 'Lower voltage cut-off [V]': 2.5,\n",
      " 'Maximum concentration in negative electrode [mol.m-3]': 33133.0,\n",
      " 'Maximum concentration in positive electrode [mol.m-3]': 63104.0,\n",
      " 'Negative current collector conductivity [S.m-1]': 58411000.0,\n",
      " 'Negative current collector density [kg.m-3]': 8960.0,\n",
      " 'Negative current collector specific heat capacity [J.kg-1.K-1]': 385.0,\n",
      " 'Negative current collector thermal conductivity [W.m-1.K-1]': 401.0,\n",
      " 'Negative current collector thickness [m]': 1.2e-05,\n",
      " 'Negative electrode Bruggeman coefficient (electrode)': 1.5,\n",
      " 'Negative electrode Bruggeman coefficient (electrolyte)': 1.5,\n",
      " 'Negative electrode LAM constant exponential term': 2.0,\n",
      " 'Negative electrode LAM constant proportional term [s-1]': 2.7778e-07,\n",
      " 'Negative electrode OCP [V]': <function graphite_LGM50_ocp_Chen2020 at 0x000002672C6F0AE0>,\n",
      " 'Negative electrode OCP entropic change [V.K-1]': 0.0,\n",
      " \"Negative electrode Paris' law constant b\": 1.12,\n",
      " \"Negative electrode Paris' law constant m\": 2.2,\n",
      " \"Negative electrode Poisson's ratio\": 0.3,\n",
      " \"Negative electrode Young's modulus [Pa]\": 15000000000.0,\n",
      " 'Negative electrode active material volume fraction': 0.75,\n",
      " 'Negative electrode charge transfer coefficient': 0.5,\n",
      " 'Negative electrode conductivity [S.m-1]': 215.0,\n",
      " 'Negative electrode cracking rate': <function graphite_cracking_rate_Ai2020 at 0x000002672C6F00E0>,\n",
      " 'Negative electrode critical stress [Pa]': 60000000.0,\n",
      " 'Negative electrode density [kg.m-3]': 1657.0,\n",
      " 'Negative electrode double-layer capacity [F.m-2]': 0.2,\n",
      " 'Negative electrode exchange-current density [A.m-2]': <function graphite_LGM50_electrolyte_exchange_current_density_Chen2020 at 0x000002672C6F0400>,\n",
      " 'Negative electrode initial crack length [m]': 2e-08,\n",
      " 'Negative electrode initial crack width [m]': 1.5e-08,\n",
      " 'Negative electrode number of cracks per unit area [m-2]': 3180000000000000.0,\n",
      " 'Negative electrode partial molar volume [m3.mol-1]': 3.1e-06,\n",
      " 'Negative electrode porosity': 0.25,\n",
      " 'Negative electrode reaction-driven LAM factor [m3.mol-1]': 0.0,\n",
      " 'Negative electrode reference concentration for free of deformation [mol.m-3]': 0.0,\n",
      " 'Negative electrode specific heat capacity [J.kg-1.K-1]': 700.0,\n",
      " 'Negative electrode thermal conductivity [W.m-1.K-1]': 1.7,\n",
      " 'Negative electrode thickness [m]': 8.52e-05,\n",
      " 'Negative electrode volume change': <function graphite_volume_change_Ai2020 at 0x000002672C6F14E0>,\n",
      " 'Negative particle diffusivity [m2.s-1]': <function graphite_LGM50_diffusivity_Chen2020 at 0x000002672C6F1440>,\n",
      " 'Negative particle radius [m]': 5.86e-06,\n",
      " 'Nominal cell capacity [A.h]': 5.0,\n",
      " 'Number of cells connected in series to make a battery': 1.0,\n",
      " 'Number of electrodes connected in parallel to make a cell': 1.0,\n",
      " 'Open-circuit voltage at 0% SOC [V]': 2.5,\n",
      " 'Open-circuit voltage at 100% SOC [V]': 4.2,\n",
      " 'Positive current collector conductivity [S.m-1]': 36914000.0,\n",
      " 'Positive current collector density [kg.m-3]': 2700.0,\n",
      " 'Positive current collector specific heat capacity [J.kg-1.K-1]': 897.0,\n",
      " 'Positive current collector thermal conductivity [W.m-1.K-1]': 237.0,\n",
      " 'Positive current collector thickness [m]': 1.6e-05,\n",
      " 'Positive electrode Bruggeman coefficient (electrode)': 1.5,\n",
      " 'Positive electrode Bruggeman coefficient (electrolyte)': 1.5,\n",
      " 'Positive electrode LAM constant exponential term': 2.0,\n",
      " 'Positive electrode LAM constant proportional term [s-1]': 2.7778e-07,\n",
      " 'Positive electrode OCP [V]': <function nmc_LGM50_ocp_Chen2020 at 0x000002672C6F18A0>,\n",
      " 'Positive electrode OCP entropic change [V.K-1]': 0.0,\n",
      " \"Positive electrode Paris' law constant b\": 1.12,\n",
      " \"Positive electrode Paris' law constant m\": 2.2,\n",
      " \"Positive electrode Poisson's ratio\": 0.2,\n",
      " \"Positive electrode Young's modulus [Pa]\": 375000000000.0,\n",
      " 'Positive electrode active material volume fraction': 0.665,\n",
      " 'Positive electrode charge transfer coefficient': 0.5,\n",
      " 'Positive electrode conductivity [S.m-1]': 0.18,\n",
      " 'Positive electrode cracking rate': <function cracking_rate_Ai2020 at 0x000002672C6F19E0>,\n",
      " 'Positive electrode critical stress [Pa]': 375000000.0,\n",
      " 'Positive electrode density [kg.m-3]': 3262.0,\n",
      " 'Positive electrode double-layer capacity [F.m-2]': 0.2,\n",
      " 'Positive electrode exchange-current density [A.m-2]': <function nmc_LGM50_electrolyte_exchange_current_density_Chen2020 at 0x000002672C6F1940>,\n",
      " 'Positive electrode initial crack length [m]': 2e-08,\n",
      " 'Positive electrode initial crack width [m]': 1.5e-08,\n",
      " 'Positive electrode number of cracks per unit area [m-2]': 3180000000000000.0,\n",
      " 'Positive electrode partial molar volume [m3.mol-1]': 1.25e-05,\n",
      " 'Positive electrode porosity': 0.335,\n",
      " 'Positive electrode reaction-driven LAM factor [m3.mol-1]': 0.0,\n",
      " 'Positive electrode reference concentration for free of deformation [mol.m-3]': 0.0,\n",
      " 'Positive electrode specific heat capacity [J.kg-1.K-1]': 700.0,\n",
      " 'Positive electrode thermal conductivity [W.m-1.K-1]': 2.1,\n",
      " 'Positive electrode thickness [m]': 7.56e-05,\n",
      " 'Positive electrode volume change': <function volume_change_Ai2020 at 0x000002672C6F13A0>,\n",
      " 'Positive particle diffusivity [m2.s-1]': <function nmc_LGM50_diffusivity_Chen2020 at 0x000002672C6F0CC0>,\n",
      " 'Positive particle radius [m]': 5.22e-06,\n",
      " 'Ratio of lithium moles to SEI moles': 1.0,\n",
      " 'Reference temperature [K]': 298.15,\n",
      " 'SEI electron conductivity [S.m-1]': 8.95e-14,\n",
      " 'SEI growth activation energy [J.mol-1]': 38000.0,\n",
      " 'SEI kinetic rate constant [m.s-1]': 1e-12,\n",
      " 'SEI lithium interstitial diffusivity [m2.s-1]': 1e-20,\n",
      " 'SEI open-circuit potential [V]': 0.4,\n",
      " 'SEI partial molar volume [m3.mol-1]': 9.585e-05,\n",
      " 'SEI reaction exchange current density [A.m-2]': 1.5e-07,\n",
      " 'SEI resistivity [Ohm.m]': 200000.0,\n",
      " 'SEI solvent diffusivity [m2.s-1]': 2.5e-22,\n",
      " 'Separator Bruggeman coefficient (electrolyte)': 1.5,\n",
      " 'Separator density [kg.m-3]': 397.0,\n",
      " 'Separator porosity': 0.47,\n",
      " 'Separator specific heat capacity [J.kg-1.K-1]': 700.0,\n",
      " 'Separator thermal conductivity [W.m-1.K-1]': 0.16,\n",
      " 'Separator thickness [m]': 1.2e-05,\n",
      " 'Thermodynamic factor': 1.0,\n",
      " 'Total heat transfer coefficient [W.m-2.K-1]': 10.0,\n",
      " 'Typical plated lithium concentration [mol.m-3]': 1000.0,\n",
      " 'Upper voltage cut-off [V]': 4.2,\n",
      " 'citations': ['OKane2022',\n",
      "               'OKane2020',\n",
      "               'Chen2020']}\n"
     ]
    },
    {
     "name": "stderr",
     "output_type": "stream",
     "text": [
      "2025-07-15 10:48:34.182 - [WARNING] simulation.solve(551): Ignoring t_eval as solution times are specified by the experiment\n"
     ]
    },
    {
     "data": {
      "application/vnd.jupyter.widget-view+json": {
       "model_id": "64f0686f93ac487cae33c7ca8cf8b6fb",
       "version_major": 2,
       "version_minor": 0
      },
      "text/plain": [
       "interactive(children=(FloatSlider(value=0.0, description='t', max=95.5281279779589, step=0.955281279779589), O…"
      ]
     },
     "metadata": {},
     "output_type": "display_data"
    },
    {
     "data": {
      "text/plain": [
       "<pybamm.plotting.quick_plot.QuickPlot at 0x267369d5850>"
      ]
     },
     "execution_count": 9,
     "metadata": {},
     "output_type": "execute_result"
    }
   ],
   "source": [
    "# attempt simulation using \"OKane2022\" parameter set\n",
    "parameter_values = pb.ParameterValues(\"OKane2022\") \n",
    "print(parameter_values)\n",
    "\n",
    "simulation3 = pb.Simulation(\n",
    "    model,\n",
    "    experiment=experiment3,\n",
    "    parameter_values=parameter_values\n",
    ")\n",
    "\n",
    "sol = simulation3.solve([0,1800])\n",
    "simulation3.plot()"
   ]
  },
  {
   "cell_type": "code",
   "execution_count": 21,
   "metadata": {},
   "outputs": [
    {
     "name": "stdout",
     "output_type": "stream",
     "text": [
      "{'Ambient temperature [K]': 298.15,\n",
      " 'Boltzmann constant [J.K-1]': 1.380649e-23,\n",
      " 'Bulk solvent concentration [mol.m-3]': 2636.0,\n",
      " 'Cation transference number': 0.2594,\n",
      " 'Cell cooling surface area [m2]': 0.00531,\n",
      " 'Cell thermal expansion coefficient [m.K-1]': 1.1e-06,\n",
      " 'Cell volume [m3]': 2.42e-05,\n",
      " 'Contact resistance [Ohm]': 0,\n",
      " 'Current function [A]': 5.0,\n",
      " 'Dead lithium decay constant [s-1]': 1e-06,\n",
      " 'Dead lithium decay rate [s-1]': <function SEI_limited_dead_lithium_OKane2022 at 0x000002672C6F0EA0>,\n",
      " 'EC diffusivity [m2.s-1]': 2e-18,\n",
      " 'EC initial concentration in electrolyte [mol.m-3]': 4541.0,\n",
      " 'Electrode height [m]': 0.065,\n",
      " 'Electrode width [m]': 1.58,\n",
      " 'Electrolyte conductivity [S.m-1]': <function electrolyte_conductivity_Nyman2008_arrhenius at 0x000002672C6F1300>,\n",
      " 'Electrolyte diffusivity [m2.s-1]': <function electrolyte_diffusivity_Nyman2008_arrhenius at 0x000002672C6F1A80>,\n",
      " 'Electron charge [C]': 1.602176634e-19,\n",
      " 'Exchange-current density for plating [A.m-2]': <function plating_exchange_current_density_OKane2020 at 0x000002672C6F1620>,\n",
      " 'Exchange-current density for stripping [A.m-2]': <function stripping_exchange_current_density_OKane2020 at 0x000002672C6F0040>,\n",
      " 'Faraday constant [C.mol-1]': 96485.33212,\n",
      " 'Ideal gas constant [J.K-1.mol-1]': 8.314462618,\n",
      " 'Initial SEI on cracks thickness [m]': 5e-13,\n",
      " 'Initial SEI thickness [m]': 5e-09,\n",
      " 'Initial concentration in electrolyte [mol.m-3]': 1000.0,\n",
      " 'Initial concentration in negative electrode [mol.m-3]': 29866.0,\n",
      " 'Initial concentration in positive electrode [mol.m-3]': 17038.0,\n",
      " 'Initial plated lithium concentration [mol.m-3]': 0.0,\n",
      " 'Initial temperature [K]': 298.15,\n",
      " 'Lithium interstitial reference concentration [mol.m-3]': 15.0,\n",
      " 'Lithium metal partial molar volume [m3.mol-1]': 1.3e-05,\n",
      " 'Lithium plating kinetic rate constant [m.s-1]': 1e-09,\n",
      " 'Lithium plating transfer coefficient': 0.65,\n",
      " 'Lower voltage cut-off [V]': 2.5,\n",
      " 'Maximum concentration in negative electrode [mol.m-3]': 33133.0,\n",
      " 'Maximum concentration in positive electrode [mol.m-3]': 63104.0,\n",
      " 'Negative current collector conductivity [S.m-1]': 58411000.0,\n",
      " 'Negative current collector density [kg.m-3]': 8960.0,\n",
      " 'Negative current collector specific heat capacity [J.kg-1.K-1]': 385.0,\n",
      " 'Negative current collector thermal conductivity [W.m-1.K-1]': 401.0,\n",
      " 'Negative current collector thickness [m]': 1.2e-05,\n",
      " 'Negative electrode Bruggeman coefficient (electrode)': 1.5,\n",
      " 'Negative electrode Bruggeman coefficient (electrolyte)': 1.5,\n",
      " 'Negative electrode LAM constant exponential term': 2.0,\n",
      " 'Negative electrode LAM constant proportional term [s-1]': 2.7778e-07,\n",
      " 'Negative electrode OCP [V]': <function graphite_LGM50_ocp_Chen2020 at 0x000002672C6F0AE0>,\n",
      " 'Negative electrode OCP entropic change [V.K-1]': 0.0,\n",
      " \"Negative electrode Paris' law constant b\": 1.12,\n",
      " \"Negative electrode Paris' law constant m\": 2.2,\n",
      " \"Negative electrode Poisson's ratio\": 0.3,\n",
      " \"Negative electrode Young's modulus [Pa]\": 15000000000.0,\n",
      " 'Negative electrode active material volume fraction': 0.75,\n",
      " 'Negative electrode charge transfer coefficient': 0.5,\n",
      " 'Negative electrode conductivity [S.m-1]': 215.0,\n",
      " 'Negative electrode cracking rate': <function graphite_cracking_rate_Ai2020 at 0x000002672C6F00E0>,\n",
      " 'Negative electrode critical stress [Pa]': 60000000.0,\n",
      " 'Negative electrode density [kg.m-3]': 1657.0,\n",
      " 'Negative electrode double-layer capacity [F.m-2]': 0.2,\n",
      " 'Negative electrode exchange-current density [A.m-2]': <function graphite_LGM50_electrolyte_exchange_current_density_Chen2020 at 0x000002672C6F0400>,\n",
      " 'Negative electrode initial crack length [m]': 2e-08,\n",
      " 'Negative electrode initial crack width [m]': 1.5e-08,\n",
      " 'Negative electrode number of cracks per unit area [m-2]': 3180000000000000.0,\n",
      " 'Negative electrode partial molar volume [m3.mol-1]': 3.1e-06,\n",
      " 'Negative electrode porosity': 0.25,\n",
      " 'Negative electrode reaction-driven LAM factor [m3.mol-1]': 0.0,\n",
      " 'Negative electrode reference concentration for free of deformation [mol.m-3]': 0.0,\n",
      " 'Negative electrode specific heat capacity [J.kg-1.K-1]': 700.0,\n",
      " 'Negative electrode thermal conductivity [W.m-1.K-1]': 1.7,\n",
      " 'Negative electrode thickness [m]': 8.52e-05,\n",
      " 'Negative electrode volume change': <function graphite_volume_change_Ai2020 at 0x000002672C6F14E0>,\n",
      " 'Negative particle diffusivity [m2.s-1]': <function graphite_LGM50_diffusivity_Chen2020 at 0x000002672C6F1440>,\n",
      " 'Negative particle radius [m]': 5.86e-06,\n",
      " 'Nominal cell capacity [A.h]': 5.0,\n",
      " 'Number of cells connected in series to make a battery': 1.0,\n",
      " 'Number of electrodes connected in parallel to make a cell': 1.0,\n",
      " 'Open-circuit voltage at 0% SOC [V]': 2.5,\n",
      " 'Open-circuit voltage at 100% SOC [V]': 4.2,\n",
      " 'Positive current collector conductivity [S.m-1]': 36914000.0,\n",
      " 'Positive current collector density [kg.m-3]': 2700.0,\n",
      " 'Positive current collector specific heat capacity [J.kg-1.K-1]': 897.0,\n",
      " 'Positive current collector thermal conductivity [W.m-1.K-1]': 237.0,\n",
      " 'Positive current collector thickness [m]': 1.6e-05,\n",
      " 'Positive electrode Bruggeman coefficient (electrode)': 1.5,\n",
      " 'Positive electrode Bruggeman coefficient (electrolyte)': 1.5,\n",
      " 'Positive electrode LAM constant exponential term': 2.0,\n",
      " 'Positive electrode LAM constant proportional term [s-1]': 2.7778e-07,\n",
      " 'Positive electrode OCP [V]': <function nmc_LGM50_ocp_Chen2020 at 0x000002672C6F18A0>,\n",
      " 'Positive electrode OCP entropic change [V.K-1]': 0.0,\n",
      " \"Positive electrode Paris' law constant b\": 1.12,\n",
      " \"Positive electrode Paris' law constant m\": 2.2,\n",
      " \"Positive electrode Poisson's ratio\": 0.2,\n",
      " \"Positive electrode Young's modulus [Pa]\": 375000000000.0,\n",
      " 'Positive electrode active material volume fraction': 0.665,\n",
      " 'Positive electrode charge transfer coefficient': 0.5,\n",
      " 'Positive electrode conductivity [S.m-1]': 0.18,\n",
      " 'Positive electrode cracking rate': <function cracking_rate_Ai2020 at 0x000002672C6F19E0>,\n",
      " 'Positive electrode critical stress [Pa]': 375000000.0,\n",
      " 'Positive electrode density [kg.m-3]': 3262.0,\n",
      " 'Positive electrode double-layer capacity [F.m-2]': 0.2,\n",
      " 'Positive electrode exchange-current density [A.m-2]': <function nmc_LGM50_electrolyte_exchange_current_density_Chen2020 at 0x000002672C6F1940>,\n",
      " 'Positive electrode initial crack length [m]': 2e-08,\n",
      " 'Positive electrode initial crack width [m]': 1.5e-08,\n",
      " 'Positive electrode number of cracks per unit area [m-2]': 3180000000000000.0,\n",
      " 'Positive electrode partial molar volume [m3.mol-1]': 1.25e-05,\n",
      " 'Positive electrode porosity': 0.335,\n",
      " 'Positive electrode reaction-driven LAM factor [m3.mol-1]': 0.0,\n",
      " 'Positive electrode reference concentration for free of deformation [mol.m-3]': 0.0,\n",
      " 'Positive electrode specific heat capacity [J.kg-1.K-1]': 700.0,\n",
      " 'Positive electrode thermal conductivity [W.m-1.K-1]': 2.1,\n",
      " 'Positive electrode thickness [m]': 7.56e-05,\n",
      " 'Positive electrode volume change': <function volume_change_Ai2020 at 0x000002672C6F13A0>,\n",
      " 'Positive particle diffusivity [m2.s-1]': <function nmc_LGM50_diffusivity_Chen2020 at 0x000002672C6F0CC0>,\n",
      " 'Positive particle radius [m]': 5.22e-06,\n",
      " 'Ratio of lithium moles to SEI moles': 1.0,\n",
      " 'Reference temperature [K]': 298.15,\n",
      " 'SEI electron conductivity [S.m-1]': 8.95e-14,\n",
      " 'SEI growth activation energy [J.mol-1]': 38000.0,\n",
      " 'SEI kinetic rate constant [m.s-1]': 1e-12,\n",
      " 'SEI lithium interstitial diffusivity [m2.s-1]': 1e-20,\n",
      " 'SEI open-circuit potential [V]': 0.4,\n",
      " 'SEI partial molar volume [m3.mol-1]': 9.585e-05,\n",
      " 'SEI reaction exchange current density [A.m-2]': 1.5e-07,\n",
      " 'SEI resistivity [Ohm.m]': 200000.0,\n",
      " 'SEI solvent diffusivity [m2.s-1]': 2.5e-22,\n",
      " 'Separator Bruggeman coefficient (electrolyte)': 1.5,\n",
      " 'Separator density [kg.m-3]': 397.0,\n",
      " 'Separator porosity': 0.47,\n",
      " 'Separator specific heat capacity [J.kg-1.K-1]': 700.0,\n",
      " 'Separator thermal conductivity [W.m-1.K-1]': 0.16,\n",
      " 'Separator thickness [m]': 1.2e-05,\n",
      " 'Thermodynamic factor': 1.0,\n",
      " 'Total heat transfer coefficient [W.m-2.K-1]': 10.0,\n",
      " 'Typical plated lithium concentration [mol.m-3]': 1000.0,\n",
      " 'Upper voltage cut-off [V]': 4.2,\n",
      " 'citations': ['OKane2022',\n",
      "               'OKane2020',\n",
      "               'Chen2020']}\n"
     ]
    },
    {
     "name": "stderr",
     "output_type": "stream",
     "text": [
      "2025-07-15 10:55:48.108 - [WARNING] simulation.solve(551): Ignoring t_eval as solution times are specified by the experiment\n"
     ]
    },
    {
     "data": {
      "application/vnd.jupyter.widget-view+json": {
       "model_id": "ee766feca93040fb85e3fbac79759014",
       "version_major": 2,
       "version_minor": 0
      },
      "text/plain": [
       "interactive(children=(FloatSlider(value=0.0, description='t', max=95.5281279779589, step=0.955281279779589), O…"
      ]
     },
     "metadata": {},
     "output_type": "display_data"
    },
    {
     "data": {
      "text/plain": [
       "<pybamm.plotting.quick_plot.QuickPlot at 0x2675fe4b110>"
      ]
     },
     "execution_count": 21,
     "metadata": {},
     "output_type": "execute_result"
    }
   ],
   "source": [
    "# change/update the parameter set for a more significant degradation\n",
    "parameter_values = pb.ParameterValues(\"OKane2022\")\n",
    "print(parameter_values)\n",
    "\n",
    "parameter_values.update({\n",
    "    \"SEI solvent diffusivity [m2.s-1]\": 1.25e-20,\n",
    "    \"Lithium plating kinetic rate constant [m.s-1]\": 1e-8,\n",
    "    \"Dead lithium decay constant [s-1]\": 4e-6,\n",
    "    \"Negative electrode cracking rate\": 1.95e-18,\n",
    "    \"Negative electrode LAM constant proportional term [s-1]\": 5.5556e-6,\n",
    "    \"Positive electrode LAM constant proportional term [s-1]\": 5.5556e-6,\n",
    "})\n",
    "\n",
    "simulation3 = pb.Simulation(\n",
    "    model,\n",
    "    experiment=experiment3,\n",
    "    parameter_values=parameter_values\n",
    ")\n",
    "sol2 = simulation3.solve([0, 1800])\n",
    "sol2.plot()"
   ]
  },
  {
   "cell_type": "markdown",
   "metadata": {},
   "source": [
    "You can create and import your own parameter sets:\n",
    "\n",
    "```python\n",
    "from your_parameter_set import get_parameter_values\n",
    "parameter_values = get_parameter_values()\n",
    "```"
   ]
  },
  {
   "cell_type": "markdown",
   "metadata": {},
   "source": [
    "## Input parameters\n",
    "\n",
    "This is useful for wanting to see how one or a small subset of parameter affects the solution. Instead of recreating a \"simulation\" object, use an \"input parameter\":"
   ]
  },
  {
   "cell_type": "code",
   "execution_count": 22,
   "metadata": {},
   "outputs": [
    {
     "data": {
      "application/vnd.jupyter.widget-view+json": {
       "model_id": "f1bdb488ab044bba8664816f1404b2f8",
       "version_major": 2,
       "version_minor": 0
      },
      "text/plain": [
       "interactive(children=(FloatSlider(value=0.0, description='t', max=1173.9686106231375, step=11.739686106231375)…"
      ]
     },
     "metadata": {},
     "output_type": "display_data"
    },
    {
     "data": {
      "text/plain": [
       "<pybamm.plotting.quick_plot.QuickPlot at 0x26727528f20>"
      ]
     },
     "execution_count": 22,
     "metadata": {},
     "output_type": "execute_result"
    }
   ],
   "source": [
    "parameter_values = pb.ParameterValues(\"Marquis2019\")\n",
    "parameter_values.update({\n",
    "    \"Current function [A]\": \"[input]\",\n",
    "})\n",
    "\n",
    "# allows input of a parameter when the model gets solved\n",
    "simulation = pb.Simulation(\n",
    "    model,\n",
    "    parameter_values=parameter_values\n",
    ")\n",
    "solution = simulation.solve([0, 3600], inputs={\"Current function [A]\": 2})\n",
    "simulation.plot()"
   ]
  }
 ],
 "metadata": {
  "kernelspec": {
   "display_name": "base",
   "language": "python",
   "name": "python3"
  },
  "language_info": {
   "codemirror_mode": {
    "name": "ipython",
    "version": 3
   },
   "file_extension": ".py",
   "mimetype": "text/x-python",
   "name": "python",
   "nbconvert_exporter": "python",
   "pygments_lexer": "ipython3",
   "version": "3.12.3"
  }
 },
 "nbformat": 4,
 "nbformat_minor": 2
}
