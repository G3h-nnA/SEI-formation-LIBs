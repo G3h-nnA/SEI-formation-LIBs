{
 "cells": [
  {
   "cell_type": "markdown",
   "metadata": {},
   "source": [
    "## Exercises"
   ]
  },
  {
   "cell_type": "code",
   "execution_count": 13,
   "metadata": {},
   "outputs": [
    {
     "name": "stdout",
     "output_type": "stream",
     "text": [
      "Requirement already satisfied: pybamm in c:\\programdata\\anaconda3\\lib\\site-packages (25.6.0)\n",
      "Requirement already satisfied: anytree>=2.8.0 in c:\\programdata\\anaconda3\\lib\\site-packages (from pybamm) (2.13.0)\n",
      "Requirement already satisfied: casadi==3.6.7 in c:\\programdata\\anaconda3\\lib\\site-packages (from pybamm) (3.6.7)\n",
      "Requirement already satisfied: numpy<2.0.0,>=1.23.5 in c:\\programdata\\anaconda3\\lib\\site-packages (from pybamm) (1.26.4)\n",
      "Requirement already satisfied: pandas>=1.5.0 in c:\\programdata\\anaconda3\\lib\\site-packages (from pybamm) (2.2.2)\n",
      "Requirement already satisfied: platformdirs in c:\\programdata\\anaconda3\\lib\\site-packages (from pybamm) (3.10.0)\n",
      "Requirement already satisfied: pooch>=1.8.1 in c:\\programdata\\anaconda3\\lib\\site-packages (from pybamm) (1.8.2)\n",
      "Requirement already satisfied: posthog in c:\\programdata\\anaconda3\\lib\\site-packages (from pybamm) (6.1.1)\n",
      "Requirement already satisfied: pybammsolvers in c:\\programdata\\anaconda3\\lib\\site-packages (from pybamm) (0.1.0)\n",
      "Requirement already satisfied: pyyaml in c:\\programdata\\anaconda3\\lib\\site-packages (from pybamm) (6.0.1)\n",
      "Requirement already satisfied: scipy>=1.11.4 in c:\\programdata\\anaconda3\\lib\\site-packages (from pybamm) (1.13.1)\n",
      "Requirement already satisfied: sympy>=1.12 in c:\\programdata\\anaconda3\\lib\\site-packages (from pybamm) (1.12)\n",
      "Requirement already satisfied: typing-extensions>=4.10.0 in c:\\programdata\\anaconda3\\lib\\site-packages (from pybamm) (4.11.0)\n",
      "Requirement already satisfied: xarray>=2022.6.0 in c:\\programdata\\anaconda3\\lib\\site-packages (from pybamm) (2023.6.0)\n",
      "Requirement already satisfied: python-dateutil>=2.8.2 in c:\\programdata\\anaconda3\\lib\\site-packages (from pandas>=1.5.0->pybamm) (2.9.0.post0)\n",
      "Requirement already satisfied: pytz>=2020.1 in c:\\programdata\\anaconda3\\lib\\site-packages (from pandas>=1.5.0->pybamm) (2024.1)\n",
      "Requirement already satisfied: tzdata>=2022.7 in c:\\programdata\\anaconda3\\lib\\site-packages (from pandas>=1.5.0->pybamm) (2023.3)\n",
      "Requirement already satisfied: packaging>=20.0 in c:\\programdata\\anaconda3\\lib\\site-packages (from pooch>=1.8.1->pybamm) (23.2)\n",
      "Requirement already satisfied: requests>=2.19.0 in c:\\programdata\\anaconda3\\lib\\site-packages (from pooch>=1.8.1->pybamm) (2.32.2)\n",
      "Requirement already satisfied: mpmath>=0.19 in c:\\programdata\\anaconda3\\lib\\site-packages (from sympy>=1.12->pybamm) (1.3.0)\n",
      "Requirement already satisfied: six>=1.5 in c:\\programdata\\anaconda3\\lib\\site-packages (from posthog->pybamm) (1.16.0)\n",
      "Requirement already satisfied: backoff>=1.10.0 in c:\\programdata\\anaconda3\\lib\\site-packages (from posthog->pybamm) (2.2.1)\n",
      "Requirement already satisfied: distro>=1.5.0 in c:\\programdata\\anaconda3\\lib\\site-packages (from posthog->pybamm) (1.9.0)\n",
      "Requirement already satisfied: charset-normalizer<4,>=2 in c:\\programdata\\anaconda3\\lib\\site-packages (from requests>=2.19.0->pooch>=1.8.1->pybamm) (2.0.4)\n",
      "Requirement already satisfied: idna<4,>=2.5 in c:\\programdata\\anaconda3\\lib\\site-packages (from requests>=2.19.0->pooch>=1.8.1->pybamm) (3.7)\n",
      "Requirement already satisfied: urllib3<3,>=1.21.1 in c:\\programdata\\anaconda3\\lib\\site-packages (from requests>=2.19.0->pooch>=1.8.1->pybamm) (2.2.2)\n",
      "Requirement already satisfied: certifi>=2017.4.17 in c:\\programdata\\anaconda3\\lib\\site-packages (from requests>=2.19.0->pooch>=1.8.1->pybamm) (2025.7.14)\n"
     ]
    }
   ],
   "source": [
    "!pip install pybamm\n",
    "import pybamm as pb\n",
    "import numpy as np\n",
    "import matplotlib.pyplot as plt"
   ]
  },
  {
   "cell_type": "markdown",
   "metadata": {},
   "source": [
    "## 1. Coupled degradation mechanisms\n",
    "\n",
    "1. Run an electrochemical model of your choice with the SEI growth submodel of your choice too.\n",
    "2. Add a lithium plating model of your choice to the previous model. You may want to run multiple cycles to see noticeable differences, and you may want to use the SPM model for faster simulations.\n",
    "3. Now add an SEI on cracks submodel.\n",
    "4. Compare the previous three models together. What differences do you observe?\n",
    "5. Use the plot_summary_variables function and compare the summary degradation variables for the various degradation models. What do you observe? Tip: check the docs for more information about this function."
   ]
  },
  {
   "cell_type": "code",
   "execution_count": 12,
   "metadata": {},
   "outputs": [
    {
     "name": "stdout",
     "output_type": "stream",
     "text": [
      "{'Ambient temperature [K]': 298.15,\n",
      " 'Boltzmann constant [J.K-1]': 1.380649e-23,\n",
      " 'Bulk solvent concentration [mol.m-3]': 2636.0,\n",
      " 'Cation transference number': 0.2594,\n",
      " 'Cell cooling surface area [m2]': 0.00531,\n",
      " 'Cell thermal expansion coefficient [m.K-1]': 1.1e-06,\n",
      " 'Cell volume [m3]': 2.42e-05,\n",
      " 'Contact resistance [Ohm]': 0,\n",
      " 'Current function [A]': 5.0,\n",
      " 'Dead lithium decay constant [s-1]': 1e-06,\n",
      " 'Dead lithium decay rate [s-1]': <function SEI_limited_dead_lithium_OKane2022 at 0x000001B8051828E0>,\n",
      " 'EC diffusivity [m2.s-1]': 2e-18,\n",
      " 'EC initial concentration in electrolyte [mol.m-3]': 4541.0,\n",
      " 'Electrode height [m]': 0.065,\n",
      " 'Electrode width [m]': 1.58,\n",
      " 'Electrolyte conductivity [S.m-1]': <function electrolyte_conductivity_Nyman2008_arrhenius at 0x000001B805183920>,\n",
      " 'Electrolyte diffusivity [m2.s-1]': <function electrolyte_diffusivity_Nyman2008_arrhenius at 0x000001B8051837E0>,\n",
      " 'Electron charge [C]': 1.602176634e-19,\n",
      " 'Exchange-current density for plating [A.m-2]': <function plating_exchange_current_density_OKane2020 at 0x000001B805182AC0>,\n",
      " 'Exchange-current density for stripping [A.m-2]': <function stripping_exchange_current_density_OKane2020 at 0x000001B805182840>,\n",
      " 'Faraday constant [C.mol-1]': 96485.33212,\n",
      " 'Ideal gas constant [J.K-1.mol-1]': 8.314462618,\n",
      " 'Initial SEI on cracks thickness [m]': 5e-13,\n",
      " 'Initial SEI thickness [m]': 5e-09,\n",
      " 'Initial concentration in electrolyte [mol.m-3]': 1000.0,\n",
      " 'Initial concentration in negative electrode [mol.m-3]': 29866.0,\n",
      " 'Initial concentration in positive electrode [mol.m-3]': 17038.0,\n",
      " 'Initial plated lithium concentration [mol.m-3]': 0.0,\n",
      " 'Initial temperature [K]': 298.15,\n",
      " 'Lithium interstitial reference concentration [mol.m-3]': 15.0,\n",
      " 'Lithium metal partial molar volume [m3.mol-1]': 1.3e-05,\n",
      " 'Lithium plating kinetic rate constant [m.s-1]': 1e-09,\n",
      " 'Lithium plating transfer coefficient': 0.65,\n",
      " 'Lower voltage cut-off [V]': 2.5,\n",
      " 'Maximum concentration in negative electrode [mol.m-3]': 33133.0,\n",
      " 'Maximum concentration in positive electrode [mol.m-3]': 63104.0,\n",
      " 'Negative current collector conductivity [S.m-1]': 58411000.0,\n",
      " 'Negative current collector density [kg.m-3]': 8960.0,\n",
      " 'Negative current collector specific heat capacity [J.kg-1.K-1]': 385.0,\n",
      " 'Negative current collector thermal conductivity [W.m-1.K-1]': 401.0,\n",
      " 'Negative current collector thickness [m]': 1.2e-05,\n",
      " 'Negative electrode Bruggeman coefficient (electrode)': 1.5,\n",
      " 'Negative electrode Bruggeman coefficient (electrolyte)': 1.5,\n",
      " 'Negative electrode LAM constant exponential term': 2.0,\n",
      " 'Negative electrode LAM constant proportional term [s-1]': 2.7778e-07,\n",
      " 'Negative electrode OCP [V]': <function graphite_LGM50_ocp_Chen2020 at 0x000001B805183C40>,\n",
      " 'Negative electrode OCP entropic change [V.K-1]': 0.0,\n",
      " \"Negative electrode Paris' law constant b\": 1.12,\n",
      " \"Negative electrode Paris' law constant m\": 2.2,\n",
      " \"Negative electrode Poisson's ratio\": 0.3,\n",
      " \"Negative electrode Young's modulus [Pa]\": 15000000000.0,\n",
      " 'Negative electrode active material volume fraction': 0.75,\n",
      " 'Negative electrode charge transfer coefficient': 0.5,\n",
      " 'Negative electrode conductivity [S.m-1]': 215.0,\n",
      " 'Negative electrode cracking rate': <function graphite_cracking_rate_Ai2020 at 0x000001B805182B60>,\n",
      " 'Negative electrode critical stress [Pa]': 60000000.0,\n",
      " 'Negative electrode density [kg.m-3]': 1657.0,\n",
      " 'Negative electrode double-layer capacity [F.m-2]': 0.2,\n",
      " 'Negative electrode exchange-current density [A.m-2]': <function graphite_LGM50_electrolyte_exchange_current_density_Chen2020 at 0x000001B805182A20>,\n",
      " 'Negative electrode initial crack length [m]': 2e-08,\n",
      " 'Negative electrode initial crack width [m]': 1.5e-08,\n",
      " 'Negative electrode number of cracks per unit area [m-2]': 3180000000000000.0,\n",
      " 'Negative electrode partial molar volume [m3.mol-1]': 3.1e-06,\n",
      " 'Negative electrode porosity': 0.25,\n",
      " 'Negative electrode reaction-driven LAM factor [m3.mol-1]': 0.0,\n",
      " 'Negative electrode reference concentration for free of deformation [mol.m-3]': 0.0,\n",
      " 'Negative electrode specific heat capacity [J.kg-1.K-1]': 700.0,\n",
      " 'Negative electrode thermal conductivity [W.m-1.K-1]': 1.7,\n",
      " 'Negative electrode thickness [m]': 8.52e-05,\n",
      " 'Negative electrode volume change': <function graphite_volume_change_Ai2020 at 0x000001B805182E80>,\n",
      " 'Negative particle diffusivity [m2.s-1]': <function graphite_LGM50_diffusivity_Chen2020 at 0x000001B805182980>,\n",
      " 'Negative particle radius [m]': 5.86e-06,\n",
      " 'Nominal cell capacity [A.h]': 5.0,\n",
      " 'Number of cells connected in series to make a battery': 1.0,\n",
      " 'Number of electrodes connected in parallel to make a cell': 1.0,\n",
      " 'Open-circuit voltage at 0% SOC [V]': 2.5,\n",
      " 'Open-circuit voltage at 100% SOC [V]': 4.2,\n",
      " 'Positive current collector conductivity [S.m-1]': 36914000.0,\n",
      " 'Positive current collector density [kg.m-3]': 2700.0,\n",
      " 'Positive current collector specific heat capacity [J.kg-1.K-1]': 897.0,\n",
      " 'Positive current collector thermal conductivity [W.m-1.K-1]': 237.0,\n",
      " 'Positive current collector thickness [m]': 1.6e-05,\n",
      " 'Positive electrode Bruggeman coefficient (electrode)': 1.5,\n",
      " 'Positive electrode Bruggeman coefficient (electrolyte)': 1.5,\n",
      " 'Positive electrode LAM constant exponential term': 2.0,\n",
      " 'Positive electrode LAM constant proportional term [s-1]': 2.7778e-07,\n",
      " 'Positive electrode OCP [V]': <function nmc_LGM50_ocp_Chen2020 at 0x000001B805183240>,\n",
      " 'Positive electrode OCP entropic change [V.K-1]': 0.0,\n",
      " \"Positive electrode Paris' law constant b\": 1.12,\n",
      " \"Positive electrode Paris' law constant m\": 2.2,\n",
      " \"Positive electrode Poisson's ratio\": 0.2,\n",
      " \"Positive electrode Young's modulus [Pa]\": 375000000000.0,\n",
      " 'Positive electrode active material volume fraction': 0.665,\n",
      " 'Positive electrode charge transfer coefficient': 0.5,\n",
      " 'Positive electrode conductivity [S.m-1]': 0.18,\n",
      " 'Positive electrode cracking rate': <function cracking_rate_Ai2020 at 0x000001B8051834C0>,\n",
      " 'Positive electrode critical stress [Pa]': 375000000.0,\n",
      " 'Positive electrode density [kg.m-3]': 3262.0,\n",
      " 'Positive electrode double-layer capacity [F.m-2]': 0.2,\n",
      " 'Positive electrode exchange-current density [A.m-2]': <function nmc_LGM50_electrolyte_exchange_current_density_Chen2020 at 0x000001B805183100>,\n",
      " 'Positive electrode initial crack length [m]': 2e-08,\n",
      " 'Positive electrode initial crack width [m]': 1.5e-08,\n",
      " 'Positive electrode number of cracks per unit area [m-2]': 3180000000000000.0,\n",
      " 'Positive electrode partial molar volume [m3.mol-1]': 1.25e-05,\n",
      " 'Positive electrode porosity': 0.335,\n",
      " 'Positive electrode reaction-driven LAM factor [m3.mol-1]': 0.0,\n",
      " 'Positive electrode reference concentration for free of deformation [mol.m-3]': 0.0,\n",
      " 'Positive electrode specific heat capacity [J.kg-1.K-1]': 700.0,\n",
      " 'Positive electrode thermal conductivity [W.m-1.K-1]': 2.1,\n",
      " 'Positive electrode thickness [m]': 7.56e-05,\n",
      " 'Positive electrode volume change': <function volume_change_Ai2020 at 0x000001B8051831A0>,\n",
      " 'Positive particle diffusivity [m2.s-1]': <function nmc_LGM50_diffusivity_Chen2020 at 0x000001B805183060>,\n",
      " 'Positive particle radius [m]': 5.22e-06,\n",
      " 'Ratio of lithium moles to SEI moles': 1.0,\n",
      " 'Reference temperature [K]': 298.15,\n",
      " 'SEI electron conductivity [S.m-1]': 8.95e-14,\n",
      " 'SEI growth activation energy [J.mol-1]': 38000.0,\n",
      " 'SEI kinetic rate constant [m.s-1]': 1e-12,\n",
      " 'SEI lithium interstitial diffusivity [m2.s-1]': 1e-20,\n",
      " 'SEI open-circuit potential [V]': 0.4,\n",
      " 'SEI partial molar volume [m3.mol-1]': 9.585e-05,\n",
      " 'SEI reaction exchange current density [A.m-2]': 1.5e-07,\n",
      " 'SEI resistivity [Ohm.m]': 200000.0,\n",
      " 'SEI solvent diffusivity [m2.s-1]': 2.5e-22,\n",
      " 'Separator Bruggeman coefficient (electrolyte)': 1.5,\n",
      " 'Separator density [kg.m-3]': 397.0,\n",
      " 'Separator porosity': 0.47,\n",
      " 'Separator specific heat capacity [J.kg-1.K-1]': 700.0,\n",
      " 'Separator thermal conductivity [W.m-1.K-1]': 0.16,\n",
      " 'Separator thickness [m]': 1.2e-05,\n",
      " 'Thermodynamic factor': 1.0,\n",
      " 'Total heat transfer coefficient [W.m-2.K-1]': 10.0,\n",
      " 'Typical plated lithium concentration [mol.m-3]': 1000.0,\n",
      " 'Upper voltage cut-off [V]': 4.2,\n",
      " 'citations': ['OKane2022',\n",
      "               'OKane2020',\n",
      "               'Chen2020']}\n"
     ]
    }
   ],
   "source": [
    "# lithium plating submodel options\n",
    "plating_options = [\n",
    "    'reversible',\n",
    "    #\"irreversible\",\n",
    "    #\"partially reversible\",\n",
    "]\n",
    "\n",
    "# SEI growth submodel options\n",
    "SEI_options = [\n",
    "    #\"reaction limited\",\n",
    "    \"solvent-diffusion limited\",\n",
    "    #\"electron-migration limited\",\n",
    "    #\"interstitial-diffusion limited\",\n",
    "    #\"ec reaction limited\",\n",
    "]\n",
    "\n",
    "# parameter sets to use\n",
    "parameter_values = pb.ParameterValues(\"OKane2022\")\n",
    "#parameter_values.update(\n",
    "#    {\"Ambient temperature [K]\": 268.15},\n",
    "#    {\"Upper voltage cut-off [V]\": 4.21},\n",
    "#    {\"Lithium plating transfer coefficient\": 0.5},\n",
    "#    {\"Dead lithium decay constant [s-1]\": 1e-4},\n",
    "#    {\"Lithium plating kinetic rate constant [m.s-1]\": 1E-9},\n",
    "#)\n",
    "print(parameter_values)\n",
    "\n",
    "# using the SPM model for faster simulations\n",
    "spm = pb.lithium_ion.SPM(options = {\n",
    "        \"SEI\": 'solvent-diffusion limited',\n",
    "        \"lithium plating\": 'reversible',\n",
    "})"
   ]
  },
  {
   "cell_type": "code",
   "execution_count": 16,
   "metadata": {},
   "outputs": [
    {
     "name": "stdout",
     "output_type": "stream",
     "text": [
      "Results for 'Current density': ['Total current density [A.m-2]', 'Positive electrode SEI interfacial current density [A.m-2]', 'X-averaged positive electrode SEI interfacial current density [A.m-2]', 'Negative electrode SEI on cracks interfacial current density [A.m-2]', 'X-averaged negative electrode SEI on cracks interfacial current density [A.m-2]', 'Positive electrode SEI on cracks interfacial current density [A.m-2]', 'X-averaged positive electrode SEI on cracks interfacial current density [A.m-2]', 'Positive electrode lithium plating interfacial current density [A.m-2]', 'X-averaged positive electrode lithium plating interfacial current density [A.m-2]', 'Current collector current density [A.m-2]', 'Positive electrode SEI volumetric interfacial current density [A.m-3]', 'X-averaged positive electrode SEI volumetric interfacial current density [A.m-3]', 'Negative electrode SEI on cracks volumetric interfacial current density [A.m-3]', 'X-averaged negative electrode SEI on cracks volumetric interfacial current density [A.m-3]', 'Positive electrode SEI on cracks volumetric interfacial current density [A.m-3]', 'X-averaged positive electrode SEI on cracks volumetric interfacial current density [A.m-3]', 'Positive electrode lithium plating volumetric interfacial current density [A.m-3]', 'X-averaged positive electrode lithium plating volumetric interfacial current density [A.m-3]', 'X-averaged negative electrode total interfacial current density [A.m-2]', 'X-averaged negative electrode total volumetric interfacial current density [A.m-3]', 'Negative electrode exchange current density [A.m-2]', 'X-averaged negative electrode exchange current density [A.m-2]', 'X-averaged positive electrode total interfacial current density [A.m-2]', 'X-averaged positive electrode total volumetric interfacial current density [A.m-3]', 'Positive electrode exchange current density [A.m-2]', 'X-averaged positive electrode exchange current density [A.m-2]', 'Positive electrode interfacial current density [A.m-2]', 'X-averaged positive electrode interfacial current density [A.m-2]', 'Positive electrode volumetric interfacial current density [A.m-3]', 'X-averaged positive electrode volumetric interfacial current density [A.m-3]', 'Negative electrode current density [A.m-2]', 'Electrolyte current density [A.m-2]', 'Negative electrolyte current density [A.m-2]', 'Positive electrolyte current density [A.m-2]', 'Negative electrode SEI interfacial current density [A.m-2]', 'X-averaged negative electrode SEI interfacial current density [A.m-2]', 'Negative electrode SEI volumetric interfacial current density [A.m-3]', 'X-averaged negative electrode SEI volumetric interfacial current density [A.m-3]', 'Negative electrode lithium plating interfacial current density [A.m-2]', 'X-averaged negative electrode lithium plating interfacial current density [A.m-2]', 'Negative electrode lithium plating volumetric interfacial current density [A.m-3]', 'X-averaged negative electrode lithium plating volumetric interfacial current density [A.m-3]', 'Negative electrode interfacial current density [A.m-2]', 'X-averaged negative electrode interfacial current density [A.m-2]', 'Negative electrode volumetric interfacial current density [A.m-3]', 'X-averaged negative electrode volumetric interfacial current density [A.m-3]', 'Positive electrode current density [A.m-2]', 'Electrode current density [A.m-2]', 'Interfacial current density [A.m-2]', 'Exchange current density [A.m-2]']\n"
     ]
    }
   ],
   "source": [
    "spm.variables.search(\"Current density\")"
   ]
  },
  {
   "cell_type": "code",
   "execution_count": 8,
   "metadata": {},
   "outputs": [],
   "source": [
    "# experiment conditions\n",
    "discharge_experiment = pb.Experiment([\n",
    "    \"Discharge at C/20 until 2.5V\",\n",
    "    \"Rest for 1 hour\",\n",
    "])"
   ]
  },
  {
   "cell_type": "code",
   "execution_count": 17,
   "metadata": {},
   "outputs": [
    {
     "name": "stderr",
     "output_type": "stream",
     "text": [
      "2025-07-21 11:42:34.104 - [WARNING] simulation.solve(551): Ignoring t_eval as solution times are specified by the experiment\n"
     ]
    },
    {
     "data": {
      "application/vnd.jupyter.widget-view+json": {
       "model_id": "9cd2130d3ec9458aa2be4524d13e4582",
       "version_major": 2,
       "version_minor": 0
      },
      "text/plain": [
       "interactive(children=(FloatSlider(value=0.0, description='t', max=21.265822026283328, step=0.21265822026283326…"
      ]
     },
     "metadata": {},
     "output_type": "display_data"
    },
    {
     "data": {
      "text/plain": [
       "<pybamm.plotting.quick_plot.QuickPlot at 0x1b807959100>"
      ]
     },
     "execution_count": 17,
     "metadata": {},
     "output_type": "execute_result"
    }
   ],
   "source": [
    "# running the experiment and plotting the results\n",
    "sim_discharge = pb.Simulation(\n",
    "    spm,\n",
    "    parameter_values=parameter_values,\n",
    "    experiment=discharge_experiment\n",
    ")\n",
    "\n",
    "t_eval = np.linspace(0, 3600, 100)  # time for solving the simulation\n",
    "sol_discharge = sim_discharge.solve(t_eval)\n",
    "sim_discharge.plot()"
   ]
  },
  {
   "cell_type": "code",
   "execution_count": 21,
   "metadata": {},
   "outputs": [
    {
     "data": {
      "text/plain": [
       "Text(0.5, 1.0, 'Terminal voltage over time')"
      ]
     },
     "execution_count": 21,
     "metadata": {},
     "output_type": "execute_result"
    },
    {
     "data": {
      "image/png": "[encoded data removed]",
      "text/plain": [
       "<Figure size 640x480 with 1 Axes>"
      ]
     },
     "metadata": {},
     "output_type": "display_data"
    }
   ],
   "source": [
    "# plot of terminal voltage\n",
    "times = t_eval\n",
    "voltage = sol_discharge[\"Terminal voltage [V]\"](times)\n",
    "current_density = sol_discharge[\"Exchange current density [A.m-2]\"](times)\n",
    "\n",
    "plt.plot(times, voltage, \"-\")\n",
    "plt.xlabel(\"Time [s]\")\n",
    "plt.ylabel(\"Terminal voltage [V]\")\n",
    "plt.title(\"Terminal voltage over time\")"
   ]
  },
  {
   "cell_type": "code",
   "execution_count": null,
   "metadata": {},
   "outputs": [],
   "source": [
    "# combining the SEI growth and the particle cracking submodels\n",
    "\n",
    "# model with only SEI growth\n",
    "model1 = pb.lithium_ion.DFN(options={\"SEI\": SEI_options, \"particle mechanics\": \"swelling only\"})\n",
    "model2 = pb.lithium_ion.DFN(options={\n",
    "    \"SEI\": SEI_options,\n",
    "    \"particle mechanics\": \"swelling and cracking\",\n",
    "    \"SEI on cracks\": \"true\",\n",
    "})\n"
   ]
  }
 ],
 "metadata": {
  "kernelspec": {
   "display_name": "base",
   "language": "python",
   "name": "python3"
  },
  "language_info": {
   "codemirror_mode": {
    "name": "ipython",
    "version": 3
   },
   "file_extension": ".py",
   "mimetype": "text/x-python",
   "name": "python",
   "nbconvert_exporter": "python",
   "pygments_lexer": "ipython3",
   "version": "3.12.3"
  }
 },
 "nbformat": 4,
 "nbformat_minor": 2
}
