{
 "cells": [
  {
   "cell_type": "code",
   "execution_count": 1,
   "metadata": {},
   "outputs": [
    {
     "name": "stderr",
     "output_type": "stream",
     "text": [
      "c:\\ProgramData\\anaconda3\\Lib\\site-packages\\paramiko\\transport.py:219: CryptographyDeprecationWarning: Blowfish has been deprecated and will be removed in a future release\n",
      "  \"class\": algorithms.Blowfish,\n"
     ]
    }
   ],
   "source": [
    "import pybamm\n",
    "import numpy as np\n",
    "import matplotlib.pyplot as plt"
   ]
  },
  {
   "cell_type": "code",
   "execution_count": 2,
   "metadata": {},
   "outputs": [],
   "source": [
    "# DFN + lumped thermal\n",
    "options = {\"thermal\": \"lumped\", \"dimensionality\": 0, \"cell geometry\": \"arbitrary\"}\n",
    "model = pybamm.lithium_ion.DFN(options=options)\n",
    "\n",
    "# O'Regan 2022 parameter set\n",
    "param = pybamm.ParameterValues(\"ORegan2022\")\n",
    "\n",
    "# Choose CasADI fast (we do a short discharge so there are no events, if events are needed choose \"fast with events\")\n",
    "solver = pybamm.IDAKLUSolver()"
   ]
  },
  {
   "cell_type": "code",
   "execution_count": 3,
   "metadata": {},
   "outputs": [],
   "source": [
    "var_pts = {\"x_n\": 30, \"x_s\": 30, \"x_p\": 30, \"r_n\": 40, \"r_p\": 40}\n",
    "\n",
    "submesh_types = model.default_submesh_types\n",
    "submesh_types[\"negative particle\"] = pybamm.MeshGenerator(\n",
    "    pybamm.Exponential1DSubMesh, submesh_params={\"side\": \"right\"}\n",
    ")\n",
    "submesh_types[\"positive particle\"] = pybamm.MeshGenerator(\n",
    "    pybamm.Exponential1DSubMesh, submesh_params={\"side\": \"right\"}\n",
    ")\n",
    "\n",
    "# Define the simulation\n",
    "sim = pybamm.Simulation(\n",
    "    model,\n",
    "    parameter_values=param,\n",
    "    C_rate=1,\n",
    "    solver=solver,\n",
    "    var_pts=var_pts,\n",
    "    submesh_types=submesh_types,\n",
    ")"
   ]
  },
  {
   "cell_type": "code",
   "execution_count": 4,
   "metadata": {},
   "outputs": [
    {
     "data": {
      "application/vnd.jupyter.widget-view+json": {
       "model_id": "5c483e760ff4483fa927e7d62b10ee1e",
       "version_major": 2,
       "version_minor": 0
      },
      "text/plain": [
       "interactive(children=(FloatSlider(value=0.0, description='t', max=1800.0, step=18.0), Output()), _dom_classes=…"
      ]
     },
     "metadata": {},
     "output_type": "display_data"
    },
    {
     "data": {
      "text/plain": [
       "<pybamm.plotting.quick_plot.QuickPlot at 0x1a02b2d8350>"
      ]
     },
     "execution_count": 4,
     "metadata": {},
     "output_type": "execute_result"
    }
   ],
   "source": [
    "sim = pybamm.Simulation(\n",
    "    model,\n",
    "    parameter_values=param,\n",
    "    C_rate=1,\n",
    "    solver=solver,\n",
    "    var_pts=var_pts,\n",
    "    submesh_types=submesh_types,\n",
    ")\n",
    "sim.solve(\n",
    "    [0, 1800]\n",
    ")  # solving time kept short for testing purposes, feel free to extend it\n",
    "sim.plot()"
   ]
  },
  {
   "cell_type": "code",
   "execution_count": 5,
   "metadata": {},
   "outputs": [
    {
     "data": {
      "application/vnd.jupyter.widget-view+json": {
       "model_id": "6200c25475e742b0a195cf59a41cb423",
       "version_major": 2,
       "version_minor": 0
      },
      "text/plain": [
       "interactive(children=(FloatSlider(value=0.0, description='t', max=3319.7952602942696, step=33.1979526029427), …"
      ]
     },
     "metadata": {},
     "output_type": "display_data"
    },
    {
     "data": {
      "text/plain": [
       "<pybamm.plotting.quick_plot.QuickPlot at 0x1a02b6da3c0>"
      ]
     },
     "execution_count": 5,
     "metadata": {},
     "output_type": "execute_result"
    }
   ],
   "source": [
    "sim = pybamm.Simulation(\n",
    "    model,\n",
    "    parameter_values=param,\n",
    "    C_rate=1,\n",
    "    solver=solver,\n",
    "    # var_pts=var_pts,\n",
    "    # submesh_types=submesh_types,\n",
    ")\n",
    "sim.solve(\n",
    "    [0, 3600]\n",
    ")  # solving time kept short for testing purposes, feel free to extend it\n",
    "sim.plot()"
   ]
  }
 ],
 "metadata": {
  "kernelspec": {
   "display_name": "base",
   "language": "python",
   "name": "python3"
  },
  "language_info": {
   "codemirror_mode": {
    "name": "ipython",
    "version": 3
   },
   "file_extension": ".py",
   "mimetype": "text/x-python",
   "name": "python",
   "nbconvert_exporter": "python",
   "pygments_lexer": "ipython3",
   "version": "3.12.3"
  },
  "orig_nbformat": 4
 },
 "nbformat": 4,
 "nbformat_minor": 2
}
