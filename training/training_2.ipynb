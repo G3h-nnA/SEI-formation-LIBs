{
 "cells": [
  {
   "cell_type": "markdown",
   "metadata": {},
   "source": [
    "## To run an experiment\n",
    "\n",
    "examples: \n",
    "- \"Discharge at 1C for 0.5 hours\",\n",
    "- \"Discharge at C/20 for 0.5 hours\",\n",
    "- \"Charge at 0.5 C for 45 minutes\",\n",
    "- \"Discharge at 1 A for 0.5 hours\",\n",
    "- \"Charge at 200 mA for 45 minutes\",\n",
    "- \"Discharge at 1 W for 0.5 hours\",\n",
    "- \"Charge at 200 mW for 45 minutes\",\n",
    "- \"Rest for 10 minutes\",\n",
    "- \"Hold at 1 V for 20 seconds\",\n",
    "- \"Charge at 1 C until 4.1 V\",+\n",
    "- \"Hold at 4.1 V until 50 mA\",\n",
    "- \"Hold at 3V until C/50\",\n",
    "- \"Discharge at C/3 for 2 hours or until 2.5 V\","
   ]
  },
  {
   "cell_type": "code",
   "execution_count": 1,
   "metadata": {},
   "outputs": [
    {
     "name": "stdout",
     "output_type": "stream",
     "text": [
      "Requirement already satisfied: pybamm in c:\\programdata\\anaconda3\\lib\\site-packages (25.6.0)\n",
      "Requirement already satisfied: anytree>=2.8.0 in c:\\programdata\\anaconda3\\lib\\site-packages (from pybamm) (2.13.0)\n",
      "Requirement already satisfied: casadi==3.6.7 in c:\\programdata\\anaconda3\\lib\\site-packages (from pybamm) (3.6.7)\n",
      "Requirement already satisfied: numpy<2.0.0,>=1.23.5 in c:\\programdata\\anaconda3\\lib\\site-packages (from pybamm) (1.26.4)\n",
      "Requirement already satisfied: pandas>=1.5.0 in c:\\programdata\\anaconda3\\lib\\site-packages (from pybamm) (2.2.2)\n",
      "Requirement already satisfied: platformdirs in c:\\programdata\\anaconda3\\lib\\site-packages (from pybamm) (3.10.0)\n",
      "Requirement already satisfied: pooch>=1.8.1 in c:\\programdata\\anaconda3\\lib\\site-packages (from pybamm) (1.8.2)\n",
      "Requirement already satisfied: posthog in c:\\programdata\\anaconda3\\lib\\site-packages (from pybamm) (6.1.0)\n",
      "Requirement already satisfied: pybammsolvers in c:\\programdata\\anaconda3\\lib\\site-packages (from pybamm) (0.1.0)\n",
      "Requirement already satisfied: pyyaml in c:\\programdata\\anaconda3\\lib\\site-packages (from pybamm) (6.0.1)\n",
      "Requirement already satisfied: scipy>=1.11.4 in c:\\programdata\\anaconda3\\lib\\site-packages (from pybamm) (1.13.1)\n",
      "Requirement already satisfied: sympy>=1.12 in c:\\programdata\\anaconda3\\lib\\site-packages (from pybamm) (1.12)\n",
      "Requirement already satisfied: typing-extensions>=4.10.0 in c:\\programdata\\anaconda3\\lib\\site-packages (from pybamm) (4.11.0)\n",
      "Requirement already satisfied: xarray>=2022.6.0 in c:\\programdata\\anaconda3\\lib\\site-packages (from pybamm) (2023.6.0)\n",
      "Requirement already satisfied: python-dateutil>=2.8.2 in c:\\programdata\\anaconda3\\lib\\site-packages (from pandas>=1.5.0->pybamm) (2.9.0.post0)\n",
      "Requirement already satisfied: pytz>=2020.1 in c:\\programdata\\anaconda3\\lib\\site-packages (from pandas>=1.5.0->pybamm) (2024.1)\n",
      "Requirement already satisfied: tzdata>=2022.7 in c:\\programdata\\anaconda3\\lib\\site-packages (from pandas>=1.5.0->pybamm) (2023.3)\n",
      "Requirement already satisfied: packaging>=20.0 in c:\\programdata\\anaconda3\\lib\\site-packages (from pooch>=1.8.1->pybamm) (23.2)\n",
      "Requirement already satisfied: requests>=2.19.0 in c:\\programdata\\anaconda3\\lib\\site-packages (from pooch>=1.8.1->pybamm) (2.32.2)\n",
      "Requirement already satisfied: mpmath>=0.19 in c:\\programdata\\anaconda3\\lib\\site-packages (from sympy>=1.12->pybamm) (1.3.0)\n",
      "Requirement already satisfied: six>=1.5 in c:\\programdata\\anaconda3\\lib\\site-packages (from posthog->pybamm) (1.16.0)\n",
      "Requirement already satisfied: backoff>=1.10.0 in c:\\programdata\\anaconda3\\lib\\site-packages (from posthog->pybamm) (2.2.1)\n",
      "Requirement already satisfied: distro>=1.5.0 in c:\\programdata\\anaconda3\\lib\\site-packages (from posthog->pybamm) (1.9.0)\n",
      "Requirement already satisfied: charset-normalizer<4,>=2 in c:\\programdata\\anaconda3\\lib\\site-packages (from requests>=2.19.0->pooch>=1.8.1->pybamm) (2.0.4)\n",
      "Requirement already satisfied: idna<4,>=2.5 in c:\\programdata\\anaconda3\\lib\\site-packages (from requests>=2.19.0->pooch>=1.8.1->pybamm) (3.7)\n",
      "Requirement already satisfied: urllib3<3,>=1.21.1 in c:\\programdata\\anaconda3\\lib\\site-packages (from requests>=2.19.0->pooch>=1.8.1->pybamm) (2.2.2)\n",
      "Requirement already satisfied: certifi>=2017.4.17 in c:\\programdata\\anaconda3\\lib\\site-packages (from requests>=2.19.0->pooch>=1.8.1->pybamm) (2024.8.30)\n"
     ]
    },
    {
     "name": "stderr",
     "output_type": "stream",
     "text": [
      "c:\\ProgramData\\anaconda3\\Lib\\site-packages\\paramiko\\transport.py:219: CryptographyDeprecationWarning: Blowfish has been deprecated and will be removed in a future release\n",
      "  \"class\": algorithms.Blowfish,\n"
     ]
    }
   ],
   "source": [
    "!pip install pybamm\n",
    "import pybamm as pb"
   ]
  },
  {
   "cell_type": "code",
   "execution_count": 2,
   "metadata": {},
   "outputs": [
    {
     "name": "stderr",
     "output_type": "stream",
     "text": [
      "c:\\ProgramData\\anaconda3\\Lib\\site-packages\\pybamm\\simulation.py:120: UserWarning: The default solver changed to IDAKLUSolver after the v25.4.0. release. You can swap back to the previous default by using `pybamm.CasadiSolver()` instead.\n",
      "  self._solver = solver or self._model.default_solver\n"
     ]
    }
   ],
   "source": [
    "model = pb.lithium_ion.DFN()\n",
    "simulation = pb.Simulation(model, experiment=\"Discharge at 3C until 3.3 V\")"
   ]
  },
  {
   "cell_type": "code",
   "execution_count": 5,
   "metadata": {},
   "outputs": [
    {
     "data": {
      "application/vnd.jupyter.widget-view+json": {
       "model_id": "a9dd1a606c6a4a29a75299989d482170",
       "version_major": 2,
       "version_minor": 0
      },
      "text/plain": [
       "interactive(children=(FloatSlider(value=0.0, description='t', max=3554.8778410256814, step=35.548778410256816)…"
      ]
     },
     "metadata": {},
     "output_type": "display_data"
    },
    {
     "data": {
      "text/plain": [
       "<pybamm.plotting.quick_plot.QuickPlot at 0x20af00ce1e0>"
      ]
     },
     "execution_count": 5,
     "metadata": {},
     "output_type": "execute_result"
    }
   ],
   "source": [
    "# using the \"experiments\" class in pb:\n",
    "experiments = pb.Experiment([\n",
    "    \"Discharge at 1C until 3.3 V\",\n",
    "    \"Charge at 0.3C until 4.0 V\",\n",
    "    \"Hold at 4.0 V until C/100\",\n",
    "])\n",
    "\n",
    "simulation = pb.Simulation(model, experiment=experiments)\n",
    "solution = simulation.solve()\n",
    "# results = simulation.plot()\n",
    "\n",
    "# each string in the list corresponds to a \"cycle\" within the solution\n",
    "solution.cycles[0].plot()   # plots the \"discharge\" segment of this experiment"
   ]
  },
  {
   "cell_type": "code",
   "execution_count": 6,
   "metadata": {},
   "outputs": [
    {
     "data": {
      "application/vnd.jupyter.widget-view+json": {
       "model_id": "fc457bf2e46e45f89b934fa91df50470",
       "version_major": 2,
       "version_minor": 0
      },
      "text/plain": [
       "interactive(children=(FloatSlider(value=4.200874589212851, description='t', max=9.669994246462009, min=4.20087…"
      ]
     },
     "metadata": {},
     "output_type": "display_data"
    },
    {
     "data": {
      "text/plain": [
       "<pybamm.plotting.quick_plot.QuickPlot at 0x20af8926870>"
      ]
     },
     "execution_count": 6,
     "metadata": {},
     "output_type": "execute_result"
    }
   ],
   "source": [
    "experiment2 = pb.Experiment([\n",
    "    (\n",
    "        \"Discharge at C/4 until 2.5 V\",\n",
    "        \"Charge at C/4 until 4.2 V\",\n",
    "        \"Hold at 4.2 V until C/100\"\n",
    "    ),\n",
    "    (\n",
    "        \"Discharge at C/2 until 2.5 V\",\n",
    "        \"Charge at C/2 until 4.2 V\",\n",
    "        \"Hold at 4.2 V until C/100\"\n",
    "    )\n",
    "])\n",
    "simulation2 = pb.Simulation(model, experiment=experiment2)\n",
    "\n",
    "# accessing the \"step\" attribute within each \"cycle\"\n",
    "sol = simulation2.solve()\n",
    "sol.cycles[0].steps[1].plot()  # plots the \"charge\" step within the first cycle of this experiment"
   ]
  }
 ],
 "metadata": {
  "kernelspec": {
   "display_name": "base",
   "language": "python",
   "name": "python3"
  },
  "language_info": {
   "codemirror_mode": {
    "name": "ipython",
    "version": 3
   },
   "file_extension": ".py",
   "mimetype": "text/x-python",
   "name": "python",
   "nbconvert_exporter": "python",
   "pygments_lexer": "ipython3",
   "version": "3.12.3"
  }
 },
 "nbformat": 4,
 "nbformat_minor": 2
}
