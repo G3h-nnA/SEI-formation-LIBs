{
 "cells": [
  {
   "cell_type": "markdown",
   "metadata": {},
   "source": [
    "## To run an experiment\n",
    "\n",
    "examples: \n",
    "- \"Discharge at 1C for 0.5 hours\",\n",
    "- \"Discharge at C/20 for 0.5 hours\",\n",
    "- \"Charge at 0.5 C for 45 minutes\",\n",
    "- \"Discharge at 1 A for 0.5 hours\",\n",
    "- \"Charge at 200 mA for 45 minutes\",\n",
    "- \"Discharge at 1 W for 0.5 hours\",\n",
    "- \"Charge at 200 mW for 45 minutes\",\n",
    "- \"Rest for 10 minutes\",\n",
    "- \"Hold at 1 V for 20 seconds\",\n",
    "- \"Charge at 1 C until 4.1 V\",+\n",
    "- \"Hold at 4.1 V until 50 mA\",\n",
    "- \"Hold at 3V until C/50\",\n",
    "- \"Discharge at C/3 for 2 hours or until 2.5 V\","
   ]
  },
  {
   "cell_type": "code",
   "execution_count": null,
   "metadata": {},
   "outputs": [],
   "source": [
    "!pip install pybamm\n",
    "import pybamm"
   ]
  },
  {
   "cell_type": "code",
   "execution_count": null,
   "metadata": {},
   "outputs": [],
   "source": [
    "model = pybamm.lithium_ion.DFN()\n",
    "simulation = pybamm.Simulation(model, experiment=\"Discharge at 3C until 3.3 V\")"
   ]
  },
  {
   "cell_type": "code",
   "execution_count": null,
   "metadata": {},
   "outputs": [],
   "source": [
    "# using the \"experiments\" class in pybamm:\n",
    "experiments = pybamm.Experiment([\n",
    "    \"Discharge at 1C until 3.3 V\",\n",
    "    \"Charge at 0.3C until 4.0 V\",\n",
    "    \"Hold at 4.0 V until C/100\",\n",
    "])\n",
    "\n",
    "simulation = pybamm.Simulation(model, experiment=experiments)\n",
    "solution = simulation.solve()\n",
    "results = simulation.plot()\n",
    "\n",
    "# each string in the list corresponds to a \"cycle\" within the solution\n",
    "solution.cycles[0].plot()   # plots the \"discharge\" segment of this experiment"
   ]
  },
  {
   "cell_type": "code",
   "execution_count": null,
   "metadata": {},
   "outputs": [],
   "source": [
    "experiment2 = pybamm.Experiment([\n",
    "    (\n",
    "        \"Discharge at C/4 until 2.5 V\",\n",
    "        \"Charge at C/4 until 4.2 V\",\n",
    "        \"Hold at 4.2 V until C/100\"\n",
    "    ),\n",
    "    (\n",
    "        \"Discharge at C/2 until 2.5 V\",\n",
    "        \"Charge at C/2 until 4.2 V\",\n",
    "        \"Hold at 4.2 V until C/100\"\n",
    "    )\n",
    "])\n",
    "simulation2 = pybamm.Simulation(model, experiment=experiment2)\n",
    "\n",
    "# accessing the \"step\" attribute within each \"cycle\"\n",
    "solution.cycles[0].steps[1].plot()  # plots the \"charge\" step within the first cycle of this experiment"
   ]
  }
 ],
 "metadata": {
  "language_info": {
   "name": "python"
  }
 },
 "nbformat": 4,
 "nbformat_minor": 2
}
