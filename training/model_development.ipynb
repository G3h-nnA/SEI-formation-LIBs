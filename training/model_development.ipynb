{
 "cells": [
  {
   "cell_type": "markdown",
   "metadata": {},
   "source": [
    "## ODE battery model\n",
    "\n",
    "A simple ODE battery model. Reservoir model used, which represents a battery as two reservoirs of charge (one for anode, one for cathode). This model is described using:\n",
    "\n",
    "$$ \\frac{dx_n}{dt} = -\\frac{I(t)}{Q_n} $$\n",
    "$$ \\frac{dx_p}{dt} = -\\frac{I(t)}{Q_p} $$\n",
    "where:\n",
    "$x_n$ and $x_p$ are dimensionless, stoichiometries of the negative and positive electrodes, where $x_n(0) = x_n0$ (same for $x_p$)\n",
    "$I(t)$ is the current\n",
    "$Q_n, Q_p$ are capacities of the electrodes.\n",
    "\n",
    "$$ V(t) = U_p (x_p) - U_n (x_n) - I(t)R $$\n",
    "- $V(t)$ is the cell voltage\n",
    "- $U_p(x_p)$ is the OCV of the electrode\n",
    "- $R$ is the resistance of the battery"
   ]
  },
  {
   "cell_type": "code",
   "execution_count": 97,
   "metadata": {},
   "outputs": [],
   "source": [
    "import pybamm as pb"
   ]
  },
  {
   "cell_type": "code",
   "execution_count": 98,
   "metadata": {},
   "outputs": [],
   "source": [
    "# defining dimensionless variable\n",
    "x_n = pb.Variable(\"Negative electrode stoichiometry\")\n",
    "x_p = pb.Variable(\"Positive electrode stoichiometry\")\n",
    "\n",
    "Q_n = pb.Parameter(\"Negative electrode capacity [A.h]\")\n",
    "Q_p = pb.Parameter(\"Positive electrode capacity [A.h]\")\n",
    "R = pb.Parameter(\"Electrode resistance [Ohm]\")\n",
    "x_n_0 = pb.Parameter(\"Initial negative electrode stoichiometry\")\n",
    "x_p_0 = pb.Parameter(\"Initial positive electrode stoichiometry\")\n",
    "\n",
    "# function parameters (parameters that are time varying)\n",
    "i = pb.FunctionParameter(\"Current function [A]\", {\"Time [s]\": pb.t})\n",
    "U_p = pb.FunctionParameter(\"Positive electrode OCV [V]\", {\"x_p\": x_p})\n",
    "U_n = pb.FunctionParameter(\"Negative electrode OCV [V]\", {\"x_n\": x_n})"
   ]
  },
  {
   "cell_type": "markdown",
   "metadata": {},
   "source": [
    "By construction, PyBaMM expects the equations to be written in a very specific, with time derivatives playing a central role: ODEs must be written in explicit form: $\\frac{du}{dt} = f(u,t)$\n",
    "\n",
    "This way, only $f(u, t)$ needs to be defined (RHS for right hand side) for a given variable u, as the left hand side is assumed to be $\\frac{du}{dt}$\n"
   ]
  },
  {
   "cell_type": "code",
   "execution_count": 99,
   "metadata": {},
   "outputs": [
    {
     "name": "stdout",
     "output_type": "stream",
     "text": [
      "-Current function [A] / Negative electrode capacity [A.h]\n",
      "time\n"
     ]
    }
   ],
   "source": [
    "# creating the model\n",
    "model = pb.BaseModel(\"ODE model\")\n",
    "\n",
    "model.rhs[x_n] = -i / Q_n\n",
    "model.initial_conditions[x_n] = x_n_0\n",
    "model.rhs[x_p] = -i / Q_p\n",
    "model.initial_conditions[x_p] = x_p_0\n",
    "\n",
    "model.variables[\"Voltage [V]\"] = U_p - U_n - i*R\n",
    "model.variables[\"Negative electrode stoichiometry\"] = x_n\n",
    "model.variables[\"Positive electrode stoichiometry\"] = x_p\n",
    "\n",
    "print(model.rhs[x_n])\n",
    "print(model.rhs[x_n].children[0].children[0].children[0])"
   ]
  },
  {
   "cell_type": "markdown",
   "metadata": {},
   "source": [
    "Event = condition that can be used to stop the solver.\n",
    "- Define four events that ensure that the stoichiometries $x_n$ and $x_p$ are between 0 and 1. The simulation should stop when either reach 0 or 1.\n"
   ]
  },
  {
   "cell_type": "code",
   "execution_count": 100,
   "metadata": {},
   "outputs": [],
   "source": [
    "stop_at_t_equal_3 = pb.Event(\"Stop at t = 3\", pb.t - 3)\n",
    "model.events = [stop_at_t_equal_3]\n",
    "\n",
    "model.events = [\n",
    "    pb.Event(\"Min negative stoichiometry\", x_n - 0),    # x_n -0 is the condition, and solver will stop when this reaches 0\n",
    "    pb.Event(\"Max negative stoichiometry\", 1 - x_n),\n",
    "    pb.Event(\"Min positive stoichiometry\", x_p - 0),\n",
    "    pb.Event(\"Max positive stoichiometry\", 1 - x_p),\n",
    "]"
   ]
  },
  {
   "cell_type": "code",
   "execution_count": 101,
   "metadata": {},
   "outputs": [],
   "source": [
    "import numpy as np\n",
    "def graphite_LGM50_ocp_Chen2020(sto):\n",
    "    u_eq = (\n",
    "        1.9793 * np.exp(-39.3631 * sto)\n",
    "        + 0.2482\n",
    "        - 0.0909 * np.tanh(29.8538 * (sto - 0.1234))\n",
    "        - 0.04478 * np.tanh(14.9159 * (sto - 0.2769))\n",
    "        - 0.0205 * np.tanh(30.4444 * (sto - 0.6103))\n",
    "    )\n",
    "\n",
    "    return u_eq\n",
    "\n",
    "def nmc_LGM50_ocp_Chen2020(sto):\n",
    "    u_eq = (\n",
    "        -0.8090 * sto\n",
    "        + 4.4875\n",
    "        - 0.0428 * np.tanh(18.5138 * (sto - 0.5542))\n",
    "        - 17.7326 * np.tanh(15.7890 * (sto - 0.3117))\n",
    "        + 17.5842 * np.tanh(15.9308 * (sto - 0.3120))\n",
    "    )\n",
    "\n",
    "    return u_eq\n",
    "\n",
    "def current(t):\n",
    "    return 1 + 0.5 * pb.sin(100*t)"
   ]
  },
  {
   "cell_type": "code",
   "execution_count": 102,
   "metadata": {},
   "outputs": [
    {
     "data": {
      "application/vnd.jupyter.widget-view+json": {
       "model_id": "7d78c0489ffe436284def1701c972988",
       "version_major": 2,
       "version_minor": 0
      },
      "text/plain": [
       "interactive(children=(FloatSlider(value=0.0, description='t', max=0.09035979586726184, step=0.0009035979586726…"
      ]
     },
     "metadata": {},
     "output_type": "display_data"
    },
    {
     "data": {
      "text/plain": [
       "<pybamm.plotting.quick_plot.QuickPlot at 0x1479ddd5910>"
      ]
     },
     "execution_count": 102,
     "metadata": {},
     "output_type": "execute_result"
    }
   ],
   "source": [
    "# defining the parameter values\n",
    "parameter_values = pb.ParameterValues({\n",
    "    \"Current function [A]\": current,\n",
    "    \"Initial negative electrode stoichiometry\": 0.9,\n",
    "    \"Initial positive electrode stoichiometry\": 0.1,\n",
    "    \"Negative electrode capacity [A.h]\": 1,\n",
    "    \"Positive electrode capacity [A.h]\": 1,\n",
    "    \"Electrode resistance [Ohm]\": 0.3,\n",
    "    \"Positive electrode OCV [V]\": nmc_LGM50_ocp_Chen2020,\n",
    "    \"Negative electrode OCV [V]\": graphite_LGM50_ocp_Chen2020,\n",
    "})\n",
    "\n",
    "# Solving the model\n",
    "sim = pb.Simulation(model, parameter_values=parameter_values)\n",
    "sol = sim.solve([0, 3])\n",
    "sol.plot([\"Voltage [V]\", \"Negative electrode stoichiometry\", \"Positive electrode stoichiometry\"])"
   ]
  }
 ],
 "metadata": {
  "kernelspec": {
   "display_name": "base",
   "language": "python",
   "name": "python3"
  },
  "language_info": {
   "codemirror_mode": {
    "name": "ipython",
    "version": 3
   },
   "file_extension": ".py",
   "mimetype": "text/x-python",
   "name": "python",
   "nbconvert_exporter": "python",
   "pygments_lexer": "ipython3",
   "version": "3.12.7"
  }
 },
 "nbformat": 4,
 "nbformat_minor": 2
}
