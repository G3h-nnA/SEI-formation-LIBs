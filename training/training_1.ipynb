{
 "cells": [
  {
   "cell_type": "markdown",
   "metadata": {},
   "source": [
    "## Running a model using pb"
   ]
  },
  {
   "cell_type": "code",
   "execution_count": 2,
   "metadata": {},
   "outputs": [
    {
     "name": "stdout",
     "output_type": "stream",
     "text": [
      "Requirement already satisfied: pybamm in c:\\programdata\\anaconda3\\lib\\site-packages (25.6.0)\n",
      "Requirement already satisfied: anytree>=2.8.0 in c:\\programdata\\anaconda3\\lib\\site-packages (from pybamm) (2.13.0)\n",
      "Requirement already satisfied: casadi==3.6.7 in c:\\programdata\\anaconda3\\lib\\site-packages (from pybamm) (3.6.7)\n",
      "Requirement already satisfied: numpy<2.0.0,>=1.23.5 in c:\\programdata\\anaconda3\\lib\\site-packages (from pybamm) (1.26.4)\n",
      "Requirement already satisfied: pandas>=1.5.0 in c:\\programdata\\anaconda3\\lib\\site-packages (from pybamm) (2.2.2)\n",
      "Requirement already satisfied: platformdirs in c:\\programdata\\anaconda3\\lib\\site-packages (from pybamm) (3.10.0)\n",
      "Requirement already satisfied: pooch>=1.8.1 in c:\\programdata\\anaconda3\\lib\\site-packages (from pybamm) (1.8.2)\n",
      "Requirement already satisfied: posthog in c:\\programdata\\anaconda3\\lib\\site-packages (from pybamm) (6.1.0)\n",
      "Requirement already satisfied: pybammsolvers in c:\\programdata\\anaconda3\\lib\\site-packages (from pybamm) (0.1.0)\n",
      "Requirement already satisfied: pyyaml in c:\\programdata\\anaconda3\\lib\\site-packages (from pybamm) (6.0.1)\n",
      "Requirement already satisfied: scipy>=1.11.4 in c:\\programdata\\anaconda3\\lib\\site-packages (from pybamm) (1.13.1)\n",
      "Requirement already satisfied: sympy>=1.12 in c:\\programdata\\anaconda3\\lib\\site-packages (from pybamm) (1.12)\n",
      "Requirement already satisfied: typing-extensions>=4.10.0 in c:\\programdata\\anaconda3\\lib\\site-packages (from pybamm) (4.11.0)\n",
      "Requirement already satisfied: xarray>=2022.6.0 in c:\\programdata\\anaconda3\\lib\\site-packages (from pybamm) (2023.6.0)\n",
      "Requirement already satisfied: python-dateutil>=2.8.2 in c:\\programdata\\anaconda3\\lib\\site-packages (from pandas>=1.5.0->pybamm) (2.9.0.post0)\n",
      "Requirement already satisfied: pytz>=2020.1 in c:\\programdata\\anaconda3\\lib\\site-packages (from pandas>=1.5.0->pybamm) (2024.1)\n",
      "Requirement already satisfied: tzdata>=2022.7 in c:\\programdata\\anaconda3\\lib\\site-packages (from pandas>=1.5.0->pybamm) (2023.3)\n",
      "Requirement already satisfied: packaging>=20.0 in c:\\programdata\\anaconda3\\lib\\site-packages (from pooch>=1.8.1->pybamm) (23.2)\n",
      "Requirement already satisfied: requests>=2.19.0 in c:\\programdata\\anaconda3\\lib\\site-packages (from pooch>=1.8.1->pybamm) (2.32.2)\n",
      "Requirement already satisfied: mpmath>=0.19 in c:\\programdata\\anaconda3\\lib\\site-packages (from sympy>=1.12->pybamm) (1.3.0)\n",
      "Requirement already satisfied: six>=1.5 in c:\\programdata\\anaconda3\\lib\\site-packages (from posthog->pybamm) (1.16.0)\n",
      "Requirement already satisfied: backoff>=1.10.0 in c:\\programdata\\anaconda3\\lib\\site-packages (from posthog->pybamm) (2.2.1)\n",
      "Requirement already satisfied: distro>=1.5.0 in c:\\programdata\\anaconda3\\lib\\site-packages (from posthog->pybamm) (1.9.0)\n",
      "Requirement already satisfied: charset-normalizer<4,>=2 in c:\\programdata\\anaconda3\\lib\\site-packages (from requests>=2.19.0->pooch>=1.8.1->pybamm) (2.0.4)\n",
      "Requirement already satisfied: idna<4,>=2.5 in c:\\programdata\\anaconda3\\lib\\site-packages (from requests>=2.19.0->pooch>=1.8.1->pybamm) (3.7)\n",
      "Requirement already satisfied: urllib3<3,>=1.21.1 in c:\\programdata\\anaconda3\\lib\\site-packages (from requests>=2.19.0->pooch>=1.8.1->pybamm) (2.2.2)\n",
      "Requirement already satisfied: certifi>=2017.4.17 in c:\\programdata\\anaconda3\\lib\\site-packages (from requests>=2.19.0->pooch>=1.8.1->pybamm) (2024.8.30)\n"
     ]
    }
   ],
   "source": [
    "!pip install pybamm\n",
    "import pybamm as pb"
   ]
  },
  {
   "cell_type": "code",
   "execution_count": 3,
   "metadata": {},
   "outputs": [
    {
     "name": "stderr",
     "output_type": "stream",
     "text": [
      "c:\\ProgramData\\anaconda3\\Lib\\site-packages\\pybamm\\simulation.py:120: UserWarning: The default solver changed to IDAKLUSolver after the v25.4.0. release. You can swap back to the previous default by using `pybamm.CasadiSolver()` instead.\n",
      "  self._solver = solver or self._model.default_solver\n"
     ]
    },
    {
     "data": {
      "text/plain": [
       "<pybamm.solvers.solution.Solution at 0x1a899f7be60>"
      ]
     },
     "execution_count": 3,
     "metadata": {},
     "output_type": "execute_result"
    }
   ],
   "source": [
    "# create a model, using Dolye-Fuller-Newman (DFN) model with basic settings\n",
    "model = pb.lithium_ion.DFN()\n",
    "\n",
    "# create a \"simulation\" object and process the model, ready to be solved\n",
    "simulation = pb.Simulation(model)\n",
    "\n",
    "# solve the \"simulation\" object by calling the function \"solve\". Set this to 1C and 1hr \n",
    "simulation.solve([0, 3600])"
   ]
  },
  {
   "cell_type": "code",
   "execution_count": null,
   "metadata": {},
   "outputs": [
    {
     "data": {
      "application/vnd.jupyter.widget-view+json": {
       "model_id": "fcd9c5de7f8a408195dce43d60fb34b2",
       "version_major": 2,
       "version_minor": 0
      },
      "text/plain": [
       "interactive(children=(FloatSlider(value=0.0, description='t', max=1.0, step=0.01), Output()), _dom_classes=('w…"
      ]
     },
     "metadata": {},
     "output_type": "display_data"
    },
    {
     "data": {
      "text/plain": [
       "<pybamm.plotting.quick_plot.QuickPlot at 0x1a899ecdf10>"
      ]
     },
     "execution_count": 4,
     "metadata": {},
     "output_type": "execute_result"
    }
   ],
   "source": [
    "# call \"plot\" to generate an interactive plot of the key variables of the simulation\n",
    "simulation.plot()"
   ]
  },
  {
   "cell_type": "markdown",
   "metadata": {},
   "source": [
    "## Comparing multiple models"
   ]
  },
  {
   "cell_type": "code",
   "execution_count": null,
   "metadata": {},
   "outputs": [
    {
     "data": {
      "application/vnd.jupyter.widget-view+json": {
       "model_id": "c06ead4b92554655b96034b15d40e4cf",
       "version_major": 2,
       "version_minor": 0
      },
      "text/plain": [
       "interactive(children=(FloatSlider(value=0.0, description='t', max=1.0, step=0.01), Output()), _dom_classes=('w…"
      ]
     },
     "metadata": {},
     "output_type": "display_data"
    },
    {
     "data": {
      "text/plain": [
       "<pybamm.plotting.quick_plot.QuickPlot at 0x1a89e185760>"
      ]
     },
     "execution_count": 6,
     "metadata": {},
     "output_type": "execute_result"
    }
   ],
   "source": [
    "# creating a list of models to compare with each other: DFN, SPM, and SPMe\n",
    "models = [\n",
    "    pb.lithium_ion.DFN(),\n",
    "    pb.lithium_ion.SPM(),\n",
    "    pb.lithium_ion.SPMe(),\n",
    "]\n",
    "\n",
    "# loop over the list, create simulation object for each and solve each individually\n",
    "simulations = []\n",
    "for model in models:\n",
    "    simulation = pb.Simulation(model)\n",
    "    simulation.solve([0, 3600])\n",
    "    simulations.append(simulation)\n",
    "\n",
    "# now plot the results\n",
    "pb.dynamic_plot(simulations)"
   ]
  },
  {
   "cell_type": "markdown",
   "metadata": {},
   "source": [
    "## Basic graph plotting"
   ]
  },
  {
   "cell_type": "code",
   "execution_count": 7,
   "metadata": {},
   "outputs": [
    {
     "data": {
      "text/plain": [
       "['Time [s]',\n",
       " 'Time [min]',\n",
       " 'Time [h]',\n",
       " 'x [m]',\n",
       " 'x_n [m]',\n",
       " 'x_s [m]',\n",
       " 'x_p [m]',\n",
       " 'r_n [m]',\n",
       " 'r_p [m]',\n",
       " 'Current variable [A]',\n",
       " 'Total current density [A.m-2]',\n",
       " 'Current [A]',\n",
       " 'C-rate',\n",
       " 'Discharge capacity [A.h]',\n",
       " 'Throughput capacity [A.h]',\n",
       " 'Discharge energy [W.h]',\n",
       " 'Throughput energy [W.h]',\n",
       " 'Porosity',\n",
       " 'Negative electrode porosity',\n",
       " 'X-averaged negative electrode porosity',\n",
       " 'Separator porosity',\n",
       " 'X-averaged separator porosity',\n",
       " 'Positive electrode porosity',\n",
       " 'X-averaged positive electrode porosity',\n",
       " 'Porosity change',\n",
       " 'Negative electrode porosity change [s-1]',\n",
       " 'X-averaged negative electrode porosity change [s-1]',\n",
       " 'Separator porosity change [s-1]',\n",
       " 'X-averaged separator porosity change [s-1]',\n",
       " 'Positive electrode porosity change [s-1]',\n",
       " 'X-averaged positive electrode porosity change [s-1]',\n",
       " 'Negative electrode interface utilisation variable',\n",
       " 'X-averaged negative electrode interface utilisation variable',\n",
       " 'Negative electrode interface utilisation',\n",
       " 'X-averaged negative electrode interface utilisation',\n",
       " 'Positive electrode interface utilisation variable',\n",
       " 'X-averaged positive electrode interface utilisation variable',\n",
       " 'Positive electrode interface utilisation',\n",
       " 'X-averaged positive electrode interface utilisation',\n",
       " 'Negative particle crack length [m]',\n",
       " 'X-averaged negative particle crack length [m]',\n",
       " 'Negative particle cracking rate [m.s-1]',\n",
       " 'X-averaged negative particle cracking rate [m.s-1]',\n",
       " 'Positive particle crack length [m]',\n",
       " 'X-averaged positive particle crack length [m]',\n",
       " 'Positive particle cracking rate [m.s-1]',\n",
       " 'X-averaged positive particle cracking rate [m.s-1]',\n",
       " 'Negative electrode active material volume fraction',\n",
       " 'X-averaged negative electrode active material volume fraction',\n",
       " 'Negative electrode capacity [A.h]',\n",
       " 'Negative particle radius',\n",
       " 'Negative particle radius [m]',\n",
       " 'X-averaged negative particle radius [m]',\n",
       " 'Negative electrode surface area to volume ratio [m-1]',\n",
       " 'X-averaged negative electrode surface area to volume ratio [m-1]',\n",
       " 'Negative electrode active material volume fraction change [s-1]',\n",
       " 'X-averaged negative electrode active material volume fraction change [s-1]',\n",
       " 'Loss of lithium due to loss of active material in negative electrode [mol]',\n",
       " 'Positive electrode active material volume fraction',\n",
       " 'X-averaged positive electrode active material volume fraction',\n",
       " 'Positive electrode capacity [A.h]',\n",
       " 'Positive particle radius',\n",
       " 'Positive particle radius [m]',\n",
       " 'X-averaged positive particle radius [m]',\n",
       " 'Positive electrode surface area to volume ratio [m-1]',\n",
       " 'X-averaged positive electrode surface area to volume ratio [m-1]',\n",
       " 'Positive electrode active material volume fraction change [s-1]',\n",
       " 'X-averaged positive electrode active material volume fraction change [s-1]',\n",
       " 'Loss of lithium due to loss of active material in positive electrode [mol]',\n",
       " 'Separator pressure [Pa]',\n",
       " 'X-averaged separator pressure [Pa]',\n",
       " 'negative electrode transverse volume-averaged velocity [m.s-1]',\n",
       " 'X-averaged negative electrode transverse volume-averaged velocity [m.s-1]',\n",
       " 'separator transverse volume-averaged velocity [m.s-1]',\n",
       " 'X-averaged separator transverse volume-averaged velocity [m.s-1]',\n",
       " 'positive electrode transverse volume-averaged velocity [m.s-1]',\n",
       " 'X-averaged positive electrode transverse volume-averaged velocity [m.s-1]',\n",
       " 'Transverse volume-averaged velocity [m.s-1]',\n",
       " 'negative electrode transverse volume-averaged acceleration [m.s-2]',\n",
       " 'X-averaged negative electrode transverse volume-averaged acceleration [m.s-2]',\n",
       " 'separator transverse volume-averaged acceleration [m.s-2]',\n",
       " 'X-averaged separator transverse volume-averaged acceleration [m.s-2]',\n",
       " 'positive electrode transverse volume-averaged acceleration [m.s-2]',\n",
       " 'X-averaged positive electrode transverse volume-averaged acceleration [m.s-2]',\n",
       " 'Transverse volume-averaged acceleration [m.s-2]',\n",
       " 'Negative electrode volume-averaged velocity [m.s-1]',\n",
       " 'Negative electrode volume-averaged acceleration [m.s-2]',\n",
       " 'X-averaged negative electrode volume-averaged acceleration [m.s-2]',\n",
       " 'Negative electrode pressure [Pa]',\n",
       " 'X-averaged negative electrode pressure [Pa]',\n",
       " 'Positive electrode volume-averaged velocity [m.s-1]',\n",
       " 'Positive electrode volume-averaged acceleration [m.s-2]',\n",
       " 'X-averaged positive electrode volume-averaged acceleration [m.s-2]',\n",
       " 'Positive electrode pressure [Pa]',\n",
       " 'X-averaged positive electrode pressure [Pa]',\n",
       " 'Negative particle concentration [mol.m-3]',\n",
       " 'X-averaged negative particle concentration [mol.m-3]',\n",
       " 'R-averaged negative particle concentration [mol.m-3]',\n",
       " 'Average negative particle concentration [mol.m-3]',\n",
       " 'Negative particle surface concentration [mol.m-3]',\n",
       " 'X-averaged negative particle surface concentration [mol.m-3]',\n",
       " 'Minimum negative particle concentration [mol.m-3]',\n",
       " 'Maximum negative particle concentration [mol.m-3]',\n",
       " 'Minimum negative particle Minimum negative particle surface concentration [mol.m-3]',\n",
       " 'Maximum negative particle surface concentration [mol.m-3]',\n",
       " 'Negative particle concentration',\n",
       " 'X-averaged negative particle concentration',\n",
       " 'R-averaged negative particle concentration',\n",
       " 'Average negative particle concentration',\n",
       " 'Negative particle surface concentration',\n",
       " 'X-averaged negative particle surface concentration',\n",
       " 'Minimum negative particle concentration',\n",
       " 'Maximum negative particle concentration',\n",
       " 'Minimum negative particle surface concentration',\n",
       " 'Maximum negative particle surface concentration',\n",
       " 'Negative particle stoichiometry',\n",
       " 'X-averaged negative particle stoichiometry',\n",
       " 'R-averaged negative particle stoichiometry',\n",
       " 'Average negative particle stoichiometry',\n",
       " 'Negative particle surface stoichiometry',\n",
       " 'X-averaged negative particle surface stoichiometry',\n",
       " 'Minimum negative particle stoichiometry',\n",
       " 'Maximum negative particle stoichiometry',\n",
       " 'Minimum negative particle surface stoichiometry',\n",
       " 'Maximum negative particle surface stoichiometry',\n",
       " 'Negative electrode extent of lithiation',\n",
       " 'X-averaged negative electrode extent of lithiation',\n",
       " 'Positive particle concentration [mol.m-3]',\n",
       " 'X-averaged positive particle concentration [mol.m-3]',\n",
       " 'R-averaged positive particle concentration [mol.m-3]',\n",
       " 'Average positive particle concentration [mol.m-3]',\n",
       " 'Positive particle surface concentration [mol.m-3]',\n",
       " 'X-averaged positive particle surface concentration [mol.m-3]',\n",
       " 'Minimum positive particle concentration [mol.m-3]',\n",
       " 'Maximum positive particle concentration [mol.m-3]',\n",
       " 'Minimum positive particle Minimum positive particle surface concentration [mol.m-3]',\n",
       " 'Maximum positive particle surface concentration [mol.m-3]',\n",
       " 'Positive particle concentration',\n",
       " 'X-averaged positive particle concentration',\n",
       " 'R-averaged positive particle concentration',\n",
       " 'Average positive particle concentration',\n",
       " 'Positive particle surface concentration',\n",
       " 'X-averaged positive particle surface concentration',\n",
       " 'Minimum positive particle concentration',\n",
       " 'Maximum positive particle concentration',\n",
       " 'Minimum positive particle surface concentration',\n",
       " 'Maximum positive particle surface concentration',\n",
       " 'Positive particle stoichiometry',\n",
       " 'X-averaged positive particle stoichiometry',\n",
       " 'R-averaged positive particle stoichiometry',\n",
       " 'Average positive particle stoichiometry',\n",
       " 'Positive particle surface stoichiometry',\n",
       " 'X-averaged positive particle surface stoichiometry',\n",
       " 'Minimum positive particle stoichiometry',\n",
       " 'Maximum positive particle stoichiometry',\n",
       " 'Minimum positive particle surface stoichiometry',\n",
       " 'Maximum positive particle surface stoichiometry',\n",
       " 'Positive electrode extent of lithiation',\n",
       " 'X-averaged positive electrode extent of lithiation',\n",
       " 'Porosity times concentration [mol.m-3]',\n",
       " 'Negative electrode porosity times concentration [mol.m-3]',\n",
       " 'Separator porosity times concentration [mol.m-3]',\n",
       " 'Positive electrode porosity times concentration [mol.m-3]',\n",
       " 'Total lithium in electrolyte [mol]',\n",
       " 'Ambient temperature [K]',\n",
       " 'Volume-averaged ambient temperature [K]',\n",
       " 'Cell temperature [K]',\n",
       " 'Negative current collector temperature [K]',\n",
       " 'Positive current collector temperature [K]',\n",
       " 'X-averaged cell temperature [K]',\n",
       " 'Volume-averaged cell temperature [K]',\n",
       " 'Negative electrode temperature [K]',\n",
       " 'X-averaged negative electrode temperature [K]',\n",
       " 'Separator temperature [K]',\n",
       " 'X-averaged separator temperature [K]',\n",
       " 'Positive electrode temperature [K]',\n",
       " 'X-averaged positive electrode temperature [K]',\n",
       " 'Ambient temperature [C]',\n",
       " 'Volume-averaged ambient temperature [C]',\n",
       " 'Cell temperature [C]',\n",
       " 'Negative current collector temperature [C]',\n",
       " 'Positive current collector temperature [C]',\n",
       " 'X-averaged cell temperature [C]',\n",
       " 'Volume-averaged cell temperature [C]',\n",
       " 'Negative electrode temperature [C]',\n",
       " 'X-averaged negative electrode temperature [C]',\n",
       " 'Separator temperature [C]',\n",
       " 'X-averaged separator temperature [C]',\n",
       " 'Positive electrode temperature [C]',\n",
       " 'X-averaged positive electrode temperature [C]',\n",
       " 'Negative current collector potential [V]',\n",
       " 'Negative SEI thickness [m]',\n",
       " 'X-averaged negative SEI thickness [m]',\n",
       " 'Negative SEI [m]',\n",
       " 'Negative total SEI thickness [m]',\n",
       " 'X-averaged negative total SEI thickness [m]',\n",
       " 'X-averaged negative electrode resistance [Ohm.m2]',\n",
       " 'Negative electrode SEI interfacial current density [A.m-2]',\n",
       " 'X-averaged negative electrode SEI interfacial current density [A.m-2]',\n",
       " 'Positive SEI thickness [m]',\n",
       " 'X-averaged positive SEI thickness [m]',\n",
       " 'Positive SEI [m]',\n",
       " 'Positive total SEI thickness [m]',\n",
       " 'X-averaged positive total SEI thickness [m]',\n",
       " 'X-averaged positive electrode resistance [Ohm.m2]',\n",
       " 'Positive electrode SEI interfacial current density [A.m-2]',\n",
       " 'X-averaged positive electrode SEI interfacial current density [A.m-2]',\n",
       " 'Negative SEI on cracks thickness [m]',\n",
       " 'X-averaged negative SEI on cracks thickness [m]',\n",
       " 'Negative SEI on cracks [m]',\n",
       " 'Negative total SEI on cracks thickness [m]',\n",
       " 'X-averaged negative total SEI on cracks thickness [m]',\n",
       " 'Negative electrode SEI on cracks interfacial current density [A.m-2]',\n",
       " 'X-averaged negative electrode SEI on cracks interfacial current density [A.m-2]',\n",
       " 'Positive SEI on cracks thickness [m]',\n",
       " 'X-averaged positive SEI on cracks thickness [m]',\n",
       " 'Positive SEI on cracks [m]',\n",
       " 'Positive total SEI on cracks thickness [m]',\n",
       " 'X-averaged positive total SEI on cracks thickness [m]',\n",
       " 'Positive electrode SEI on cracks interfacial current density [A.m-2]',\n",
       " 'X-averaged positive electrode SEI on cracks interfacial current density [A.m-2]',\n",
       " 'Negative lithium plating concentration [mol.m-3]',\n",
       " 'X-averaged negative lithium plating concentration [mol.m-3]',\n",
       " 'Volume-averaged negative lithium plating concentration [mol.m-3]',\n",
       " 'Negative dead lithium concentration [mol.m-3]',\n",
       " 'X-averaged negative dead lithium concentration [mol.m-3]',\n",
       " 'Volume-averaged negative dead lithium concentration [mol.m-3]',\n",
       " 'Negative lithium plating thickness [m]',\n",
       " 'X-averaged negative lithium plating thickness [m]',\n",
       " 'Volume-averaged negative lithium plating thickness [m]',\n",
       " 'Negative dead lithium thickness [m]',\n",
       " 'X-averaged negative dead lithium thickness [m]',\n",
       " 'Volume-averaged negative dead lithium thickness [m]',\n",
       " 'Loss of lithium to negative lithium plating [mol]',\n",
       " 'Loss of capacity to negative lithium plating [A.h]',\n",
       " 'Negative electrode lithium plating interfacial current density [A.m-2]',\n",
       " 'X-averaged negative electrode lithium plating interfacial current density [A.m-2]',\n",
       " 'Negative electrode lithium plating reaction overpotential [V]',\n",
       " 'X-averaged negative electrode lithium plating reaction overpotential [V]',\n",
       " 'Positive lithium plating concentration [mol.m-3]',\n",
       " 'X-averaged positive lithium plating concentration [mol.m-3]',\n",
       " 'Volume-averaged positive lithium plating concentration [mol.m-3]',\n",
       " 'Positive dead lithium concentration [mol.m-3]',\n",
       " 'X-averaged positive dead lithium concentration [mol.m-3]',\n",
       " 'Volume-averaged positive dead lithium concentration [mol.m-3]',\n",
       " 'Positive lithium plating thickness [m]',\n",
       " 'X-averaged positive lithium plating thickness [m]',\n",
       " 'Volume-averaged positive lithium plating thickness [m]',\n",
       " 'Positive dead lithium thickness [m]',\n",
       " 'X-averaged positive dead lithium thickness [m]',\n",
       " 'Volume-averaged positive dead lithium thickness [m]',\n",
       " 'Loss of lithium to positive lithium plating [mol]',\n",
       " 'Loss of capacity to positive lithium plating [A.h]',\n",
       " 'Positive electrode lithium plating interfacial current density [A.m-2]',\n",
       " 'X-averaged positive electrode lithium plating interfacial current density [A.m-2]',\n",
       " 'Positive electrode lithium plating reaction overpotential [V]',\n",
       " 'X-averaged positive electrode lithium plating reaction overpotential [V]',\n",
       " 'Negative crack surface to volume ratio [m-1]',\n",
       " 'Negative electrode roughness ratio',\n",
       " 'X-averaged negative electrode roughness ratio',\n",
       " 'Positive crack surface to volume ratio [m-1]',\n",
       " 'Positive electrode roughness ratio',\n",
       " 'X-averaged positive electrode roughness ratio',\n",
       " 'Electrolyte transport efficiency',\n",
       " 'Negative electrolyte transport efficiency',\n",
       " 'X-averaged negative electrolyte transport efficiency',\n",
       " 'Separator electrolyte transport efficiency',\n",
       " 'X-averaged separator electrolyte transport efficiency',\n",
       " 'Positive electrolyte transport efficiency',\n",
       " 'X-averaged positive electrolyte transport efficiency',\n",
       " 'Electrode transport efficiency',\n",
       " 'Negative electrode transport efficiency',\n",
       " 'X-averaged negative electrode transport efficiency',\n",
       " 'Separator electrode transport efficiency',\n",
       " 'X-averaged separator electrode transport efficiency',\n",
       " 'Positive electrode transport efficiency',\n",
       " 'X-averaged positive electrode transport efficiency',\n",
       " 'Separator volume-averaged velocity [m.s-1]',\n",
       " 'Separator volume-averaged acceleration [m.s-2]',\n",
       " 'X-averaged separator volume-averaged acceleration [m.s-2]',\n",
       " 'Volume-averaged velocity [m.s-1]',\n",
       " 'Volume-averaged acceleration [m.s-1]',\n",
       " 'X-averaged volume-averaged acceleration [m.s-1]',\n",
       " 'Pressure [Pa]',\n",
       " 'Negative electrode stoichiometry',\n",
       " 'Negative electrode volume-averaged concentration',\n",
       " 'Negative electrode volume-averaged concentration [mol.m-3]',\n",
       " 'Total lithium in primary phase in negative electrode [mol]',\n",
       " 'Positive electrode stoichiometry',\n",
       " 'Positive electrode volume-averaged concentration',\n",
       " 'Positive electrode volume-averaged concentration [mol.m-3]',\n",
       " 'Total lithium in primary phase in positive electrode [mol]',\n",
       " 'Electrolyte concentration concatenation [mol.m-3]',\n",
       " 'Negative electrolyte concentration [mol.m-3]',\n",
       " 'X-averaged negative electrolyte concentration [mol.m-3]',\n",
       " 'Separator electrolyte concentration [mol.m-3]',\n",
       " 'X-averaged separator electrolyte concentration [mol.m-3]',\n",
       " 'Positive electrolyte concentration [mol.m-3]',\n",
       " 'X-averaged positive electrolyte concentration [mol.m-3]',\n",
       " 'Negative electrolyte concentration [Molar]',\n",
       " 'X-averaged negative electrolyte concentration [Molar]',\n",
       " 'Separator electrolyte concentration [Molar]',\n",
       " 'X-averaged separator electrolyte concentration [Molar]',\n",
       " 'Positive electrolyte concentration [Molar]',\n",
       " 'X-averaged positive electrolyte concentration [Molar]',\n",
       " 'Electrolyte concentration [mol.m-3]',\n",
       " 'X-averaged electrolyte concentration [mol.m-3]',\n",
       " 'Electrolyte concentration [Molar]',\n",
       " 'X-averaged electrolyte concentration [Molar]',\n",
       " 'Ohmic heating [W.m-3]',\n",
       " 'X-averaged Ohmic heating [W.m-3]',\n",
       " 'Volume-averaged Ohmic heating [W.m-3]',\n",
       " 'Ohmic heating per unit electrode-pair area [W.m-2]',\n",
       " 'Ohmic heating [W]',\n",
       " 'Irreversible electrochemical heating [W.m-3]',\n",
       " 'X-averaged irreversible electrochemical heating [W.m-3]',\n",
       " 'Volume-averaged irreversible electrochemical heating [W.m-3]',\n",
       " 'Irreversible electrochemical heating per unit electrode-pair area [W.m-2]',\n",
       " 'Irreversible electrochemical heating [W]',\n",
       " 'Reversible heating [W.m-3]',\n",
       " 'X-averaged reversible heating [W.m-3]',\n",
       " 'Volume-averaged reversible heating [W.m-3]',\n",
       " 'Reversible heating per unit electrode-pair area [W.m-2]',\n",
       " 'Reversible heating [W]',\n",
       " 'Total heating [W.m-3]',\n",
       " 'X-averaged total heating [W.m-3]',\n",
       " 'Volume-averaged total heating [W.m-3]',\n",
       " 'Total heating per unit electrode-pair area [W.m-2]',\n",
       " 'Total heating [W]',\n",
       " 'Negative current collector Ohmic heating [W.m-3]',\n",
       " 'Positive current collector Ohmic heating [W.m-3]',\n",
       " 'Surface total cooling [W.m-3]',\n",
       " 'Surface total cooling [W]',\n",
       " 'Surface temperature [K]',\n",
       " 'Volume-averaged surface temperature [K]',\n",
       " 'Environment total cooling [W]',\n",
       " 'Current collector current density [A.m-2]',\n",
       " 'Negative SEI concentration [mol.m-3]',\n",
       " 'X-averaged negative SEI concentration [mol.m-3]',\n",
       " 'Loss of lithium to negative SEI [mol]',\n",
       " 'Loss of capacity to negative SEI [A.h]',\n",
       " 'Negative electrode SEI volumetric interfacial current density [A.m-3]',\n",
       " 'X-averaged negative electrode SEI volumetric interfacial current density [A.m-3]',\n",
       " 'Positive SEI concentration [mol.m-3]',\n",
       " 'X-averaged positive SEI concentration [mol.m-3]',\n",
       " 'Loss of lithium to positive SEI [mol]',\n",
       " 'Loss of capacity to positive SEI [A.h]',\n",
       " 'Positive electrode SEI volumetric interfacial current density [A.m-3]',\n",
       " 'X-averaged positive electrode SEI volumetric interfacial current density [A.m-3]',\n",
       " 'Negative SEI on cracks concentration [mol.m-3]',\n",
       " 'X-averaged negative SEI on cracks concentration [mol.m-3]',\n",
       " 'Loss of lithium to negative SEI on cracks [mol]',\n",
       " 'Loss of capacity to negative SEI on cracks [A.h]',\n",
       " 'Negative electrode SEI on cracks volumetric interfacial current density [A.m-3]',\n",
       " 'X-averaged negative electrode SEI on cracks volumetric interfacial current density [A.m-3]',\n",
       " 'Positive SEI on cracks concentration [mol.m-3]',\n",
       " 'X-averaged positive SEI on cracks concentration [mol.m-3]',\n",
       " 'Loss of lithium to positive SEI on cracks [mol]',\n",
       " 'Loss of capacity to positive SEI on cracks [A.h]',\n",
       " 'Positive electrode SEI on cracks volumetric interfacial current density [A.m-3]',\n",
       " 'X-averaged positive electrode SEI on cracks volumetric interfacial current density [A.m-3]',\n",
       " 'Negative electrode lithium plating volumetric interfacial current density [A.m-3]',\n",
       " 'X-averaged negative electrode lithium plating volumetric interfacial current density [A.m-3]',\n",
       " 'Positive electrode lithium plating volumetric interfacial current density [A.m-3]',\n",
       " 'X-averaged positive electrode lithium plating volumetric interfacial current density [A.m-3]',\n",
       " 'Negative electrode open-circuit potential [V]',\n",
       " 'X-averaged negative electrode open-circuit potential [V]',\n",
       " 'Negative electrode bulk open-circuit potential [V]',\n",
       " 'Negative particle concentration overpotential [V]',\n",
       " 'Negative electrode entropic change [V.K-1]',\n",
       " 'X-averaged negative electrode entropic change [V.K-1]',\n",
       " 'Positive electrode open-circuit potential [V]',\n",
       " 'X-averaged positive electrode open-circuit potential [V]',\n",
       " 'Positive electrode bulk open-circuit potential [V]',\n",
       " 'Positive particle concentration overpotential [V]',\n",
       " 'Positive electrode entropic change [V.K-1]',\n",
       " 'X-averaged positive electrode entropic change [V.K-1]',\n",
       " 'X-averaged negative electrode total interfacial current density [A.m-2]',\n",
       " 'X-averaged negative electrode total volumetric interfacial current density [A.m-3]',\n",
       " 'Negative electrode SEI film overpotential [V]',\n",
       " 'X-averaged negative electrode SEI film overpotential [V]',\n",
       " 'Negative electrode exchange current density [A.m-2]',\n",
       " 'X-averaged negative electrode exchange current density [A.m-2]',\n",
       " 'Negative electrode reaction overpotential [V]',\n",
       " 'X-averaged negative electrode reaction overpotential [V]',\n",
       " 'X-averaged negative electrode surface potential difference [V]',\n",
       " 'Negative electrode interfacial current density [A.m-2]',\n",
       " 'X-averaged negative electrode interfacial current density [A.m-2]',\n",
       " 'Negative electrode volumetric interfacial current density [A.m-3]',\n",
       " 'X-averaged negative electrode volumetric interfacial current density [A.m-3]',\n",
       " 'X-averaged positive electrode total interfacial current density [A.m-2]',\n",
       " 'X-averaged positive electrode total volumetric interfacial current density [A.m-3]',\n",
       " 'Positive electrode SEI film overpotential [V]',\n",
       " 'X-averaged positive electrode SEI film overpotential [V]',\n",
       " 'Positive electrode exchange current density [A.m-2]',\n",
       " 'X-averaged positive electrode exchange current density [A.m-2]',\n",
       " 'Positive electrode reaction overpotential [V]',\n",
       " 'X-averaged positive electrode reaction overpotential [V]',\n",
       " 'X-averaged positive electrode surface potential difference [V]',\n",
       " 'Positive electrode interfacial current density [A.m-2]',\n",
       " 'X-averaged positive electrode interfacial current density [A.m-2]',\n",
       " 'Positive electrode volumetric interfacial current density [A.m-3]',\n",
       " 'X-averaged positive electrode volumetric interfacial current density [A.m-3]',\n",
       " 'Negative particle rhs [mol.m-3.s-1]',\n",
       " 'Negative particle bc [mol.m-4]',\n",
       " 'Negative particle effective diffusivity [m2.s-1]',\n",
       " 'X-averaged negative particle effective diffusivity [m2.s-1]',\n",
       " 'Volume-averaged negative particle effective diffusivity [m2.s-1]',\n",
       " 'Negative particle flux [mol.m-2.s-1]',\n",
       " 'X-averaged negative particle flux [mol.m-2.s-1]',\n",
       " 'Positive particle rhs [mol.m-3.s-1]',\n",
       " 'Positive particle bc [mol.m-4]',\n",
       " 'Positive particle effective diffusivity [m2.s-1]',\n",
       " 'X-averaged positive particle effective diffusivity [m2.s-1]',\n",
       " 'Volume-averaged positive particle effective diffusivity [m2.s-1]',\n",
       " 'Positive particle flux [mol.m-2.s-1]',\n",
       " 'X-averaged positive particle flux [mol.m-2.s-1]',\n",
       " 'Negative electrode potential [V]',\n",
       " 'X-averaged negative electrode potential [V]',\n",
       " 'Negative electrode ohmic losses [V]',\n",
       " 'X-averaged negative electrode ohmic losses [V]',\n",
       " 'Gradient of negative electrode potential [V.m-1]',\n",
       " 'Negative electrode current density [A.m-2]',\n",
       " 'Electrolyte potential [V]',\n",
       " 'X-averaged electrolyte potential [V]',\n",
       " 'X-averaged electrolyte overpotential [V]',\n",
       " 'Gradient of electrolyte potential [V.m-1]',\n",
       " 'Negative electrolyte potential [V]',\n",
       " 'X-averaged negative electrolyte potential [V]',\n",
       " 'Gradient of negative electrolyte potential [V.m-1]',\n",
       " 'Separator electrolyte potential [V]',\n",
       " 'X-averaged separator electrolyte potential [V]',\n",
       " 'Gradient of separator electrolyte potential [V.m-1]',\n",
       " 'Positive electrolyte potential [V]',\n",
       " 'X-averaged positive electrolyte potential [V]',\n",
       " 'Gradient of positive electrolyte potential [V.m-1]',\n",
       " 'Electrolyte current density [A.m-2]',\n",
       " 'Negative electrolyte current density [A.m-2]',\n",
       " 'Positive electrolyte current density [A.m-2]',\n",
       " 'X-averaged concentration overpotential [V]',\n",
       " 'X-averaged electrolyte ohmic losses [V]',\n",
       " 'Negative electrode surface potential difference [V]',\n",
       " 'Negative electrode surface potential difference at separator interface [V]',\n",
       " 'Sum of negative electrode electrolyte reaction source terms [A.m-3]',\n",
       " 'Sum of x-averaged negative electrode electrolyte reaction source terms [A.m-3]',\n",
       " 'Sum of negative electrode volumetric interfacial current densities [A.m-3]',\n",
       " 'Sum of x-averaged negative electrode volumetric interfacial current densities [A.m-3]',\n",
       " 'Sum of positive electrode electrolyte reaction source terms [A.m-3]',\n",
       " 'Sum of x-averaged positive electrode electrolyte reaction source terms [A.m-3]',\n",
       " 'Sum of positive electrode volumetric interfacial current densities [A.m-3]',\n",
       " 'Sum of x-averaged positive electrode volumetric interfacial current densities [A.m-3]',\n",
       " 'Interfacial current density [A.m-2]',\n",
       " 'Exchange current density [A.m-2]',\n",
       " 'Sum of volumetric interfacial current densities [A.m-3]',\n",
       " 'Sum of electrolyte reaction source terms [A.m-3]',\n",
       " 'Positive electrode potential [V]',\n",
       " 'X-averaged positive electrode potential [V]',\n",
       " 'Positive electrode ohmic losses [V]',\n",
       " 'X-averaged positive electrode ohmic losses [V]',\n",
       " 'Gradient of positive electrode potential [V.m-1]',\n",
       " 'Positive electrode current density [A.m-2]',\n",
       " 'Electrode current density [A.m-2]',\n",
       " 'Positive current collector potential [V]',\n",
       " 'Local voltage [V]',\n",
       " 'Voltage expression [V]',\n",
       " 'Terminal voltage [V]',\n",
       " 'Contact overpotential [V]',\n",
       " 'Voltage [V]',\n",
       " 'Electrolyte flux [mol.m-2.s-1]',\n",
       " 'Electrolyte diffusion flux [mol.m-2.s-1]',\n",
       " 'Electrolyte migration flux [mol.m-2.s-1]',\n",
       " 'Electrolyte convection flux [mol.m-2.s-1]',\n",
       " 'Positive electrode surface potential difference [V]',\n",
       " 'Positive electrode surface potential difference at separator interface [V]',\n",
       " 'Surface open-circuit voltage [V]',\n",
       " 'Bulk open-circuit voltage [V]',\n",
       " 'Particle concentration overpotential [V]',\n",
       " 'X-averaged reaction overpotential [V]',\n",
       " 'X-averaged SEI film overpotential [V]',\n",
       " 'X-averaged solid phase ohmic losses [V]',\n",
       " 'Battery open-circuit voltage [V]',\n",
       " 'Battery negative electrode bulk open-circuit potential [V]',\n",
       " 'Battery positive electrode bulk open-circuit potential [V]',\n",
       " 'Battery particle concentration overpotential [V]',\n",
       " 'Battery negative particle concentration overpotential [V]',\n",
       " 'Battery positive particle concentration overpotential [V]',\n",
       " 'X-averaged battery reaction overpotential [V]',\n",
       " 'X-averaged battery negative reaction overpotential [V]',\n",
       " 'X-averaged battery positive reaction overpotential [V]',\n",
       " 'X-averaged battery solid phase ohmic losses [V]',\n",
       " 'X-averaged battery negative solid phase ohmic losses [V]',\n",
       " 'X-averaged battery positive solid phase ohmic losses [V]',\n",
       " 'X-averaged battery electrolyte ohmic losses [V]',\n",
       " 'X-averaged battery concentration overpotential [V]',\n",
       " 'Battery voltage [V]',\n",
       " 'Local ECM resistance [Ohm]',\n",
       " 'Terminal power [W]',\n",
       " 'Power [W]',\n",
       " 'Resistance [Ohm]',\n",
       " 'Total lithium in negative electrode [mol]',\n",
       " 'LAM_ne [%]',\n",
       " 'Loss of active material in negative electrode [%]',\n",
       " 'Total lithium in positive electrode [mol]',\n",
       " 'LAM_pe [%]',\n",
       " 'Loss of active material in positive electrode [%]',\n",
       " 'LLI [%]',\n",
       " 'Loss of lithium inventory [%]',\n",
       " 'Loss of lithium inventory, including electrolyte [%]',\n",
       " 'Total lithium [mol]',\n",
       " 'Total lithium in particles [mol]',\n",
       " 'Total lithium capacity [A.h]',\n",
       " 'Total lithium capacity in particles [A.h]',\n",
       " 'Total lithium lost [mol]',\n",
       " 'Total lithium lost from particles [mol]',\n",
       " 'Total lithium lost from electrolyte [mol]',\n",
       " 'Total lithium lost to side reactions [mol]',\n",
       " 'Total capacity lost to side reactions [A.h]']"
      ]
     },
     "execution_count": 7,
     "metadata": {},
     "output_type": "execute_result"
    }
   ],
   "source": [
    "# prints a list of plottable variables for a given model\n",
    "model.variable_names()"
   ]
  },
  {
   "cell_type": "code",
   "execution_count": 8,
   "metadata": {},
   "outputs": [
    {
     "name": "stdout",
     "output_type": "stream",
     "text": [
      "Results for 'electrolyte': ['Total lithium in electrolyte [mol]', 'Electrolyte transport efficiency', 'Negative electrolyte transport efficiency', 'X-averaged negative electrolyte transport efficiency', 'Separator electrolyte transport efficiency', 'X-averaged separator electrolyte transport efficiency', 'Positive electrolyte transport efficiency', 'X-averaged positive electrolyte transport efficiency', 'Electrolyte concentration concatenation [mol.m-3]', 'Negative electrolyte concentration [mol.m-3]', 'X-averaged negative electrolyte concentration [mol.m-3]', 'Separator electrolyte concentration [mol.m-3]', 'X-averaged separator electrolyte concentration [mol.m-3]', 'Positive electrolyte concentration [mol.m-3]', 'X-averaged positive electrolyte concentration [mol.m-3]', 'Negative electrolyte concentration [Molar]', 'X-averaged negative electrolyte concentration [Molar]', 'Separator electrolyte concentration [Molar]', 'X-averaged separator electrolyte concentration [Molar]', 'Positive electrolyte concentration [Molar]', 'X-averaged positive electrolyte concentration [Molar]', 'Electrolyte concentration [mol.m-3]', 'X-averaged electrolyte concentration [mol.m-3]', 'Electrolyte concentration [Molar]', 'X-averaged electrolyte concentration [Molar]', 'Electrolyte potential [V]', 'X-averaged electrolyte potential [V]', 'X-averaged electrolyte overpotential [V]', 'Gradient of electrolyte potential [V.m-1]', 'Negative electrolyte potential [V]', 'X-averaged negative electrolyte potential [V]', 'Gradient of negative electrolyte potential [V.m-1]', 'Separator electrolyte potential [V]', 'X-averaged separator electrolyte potential [V]', 'Gradient of separator electrolyte potential [V.m-1]', 'Positive electrolyte potential [V]', 'X-averaged positive electrolyte potential [V]', 'Gradient of positive electrolyte potential [V.m-1]', 'Electrolyte current density [A.m-2]', 'Negative electrolyte current density [A.m-2]', 'Positive electrolyte current density [A.m-2]', 'X-averaged electrolyte ohmic losses [V]', 'Sum of negative electrode electrolyte reaction source terms [A.m-3]', 'Sum of x-averaged negative electrode electrolyte reaction source terms [A.m-3]', 'Sum of positive electrode electrolyte reaction source terms [A.m-3]', 'Sum of x-averaged positive electrode electrolyte reaction source terms [A.m-3]', 'Sum of electrolyte reaction source terms [A.m-3]', 'Electrolyte flux [mol.m-2.s-1]', 'Electrolyte diffusion flux [mol.m-2.s-1]', 'Electrolyte migration flux [mol.m-2.s-1]', 'Electrolyte convection flux [mol.m-2.s-1]', 'X-averaged battery electrolyte ohmic losses [V]', 'Loss of lithium inventory, including electrolyte [%]', 'Total lithium lost from electrolyte [mol]']\n"
     ]
    }
   ],
   "source": [
    "# searching the list of variables\n",
    "model.variables.search(\"electrolyte\")"
   ]
  },
  {
   "cell_type": "code",
   "execution_count": null,
   "metadata": {},
   "outputs": [
    {
     "data": {
      "application/vnd.jupyter.widget-view+json": {
       "model_id": "641997d9729c4f06bd10d163b90ba2fb",
       "version_major": 2,
       "version_minor": 0
      },
      "text/plain": [
       "interactive(children=(FloatSlider(value=0.0, description='t', max=1.0, step=0.01), Output()), _dom_classes=('w…"
      ]
     },
     "metadata": {},
     "output_type": "display_data"
    },
    {
     "data": {
      "text/plain": [
       "<pybamm.plotting.quick_plot.QuickPlot at 0x1a8a2b5b530>"
      ]
     },
     "execution_count": 9,
     "metadata": {},
     "output_type": "execute_result"
    }
   ],
   "source": [
    "# create a list of variables to plot (list of strings)\n",
    "output_variables = [\"Voltage [V]\", \"Current [A]\"]\n",
    "simulation.plot(output_variables=output_variables)"
   ]
  },
  {
   "cell_type": "code",
   "execution_count": 10,
   "metadata": {},
   "outputs": [
    {
     "data": {
      "application/vnd.jupyter.widget-view+json": {
       "model_id": "934f32941bb9460bb861c4a03d554cb9",
       "version_major": 2,
       "version_minor": 0
      },
      "text/plain": [
       "interactive(children=(FloatSlider(value=0.0, description='t', max=1.0, step=0.01), Output()), _dom_classes=('w…"
      ]
     },
     "metadata": {},
     "output_type": "display_data"
    },
    {
     "data": {
      "text/plain": [
       "<pybamm.plotting.quick_plot.QuickPlot at 0x1a8a29c1430>"
      ]
     },
     "execution_count": 10,
     "metadata": {},
     "output_type": "execute_result"
    }
   ],
   "source": [
    "# plotting multiple variables on the same plot using a nested list\n",
    "output_variables = [\n",
    "    \"Voltage [V]\",\n",
    "    [\"Electrode current density [A.m-2]\", \"Electrolyte current density [A.m-2]\"]\n",
    "]\n",
    "simulation.plot(output_variables=output_variables)"
   ]
  },
  {
   "cell_type": "markdown",
   "metadata": {},
   "source": [
    "## Changing parameters\n",
    "Previously, default parameter sets were used. PyBaMM contains a bunch of in-built parameter sets:"
   ]
  },
  {
   "cell_type": "code",
   "execution_count": null,
   "metadata": {},
   "outputs": [
    {
     "data": {
      "application/vnd.jupyter.widget-view+json": {
       "model_id": "b4898d8fffa741f290db97c501386c6f",
       "version_major": 2,
       "version_minor": 0
      },
      "text/plain": [
       "interactive(children=(FloatSlider(value=0.0, description='t', max=3555.876233794978, step=35.55876233794978), …"
      ]
     },
     "metadata": {},
     "output_type": "display_data"
    },
    {
     "data": {
      "text/plain": [
       "<pybamm.plotting.quick_plot.QuickPlot at 0x1a899d73920>"
      ]
     },
     "execution_count": 11,
     "metadata": {},
     "output_type": "execute_result"
    }
   ],
   "source": [
    "# Li-ion Parameter sets: https://docs.pybamm.org/en/latest/source/api/parameters/parameter_sets.html\n",
    "# using Chen et. al. (2020) set, pass the parameter set to \"simulation\" object as a keyword argument:\n",
    "parameter_values = pb.ParameterValues(\"Chen2020\")\n",
    "simulation = pb.Simulation(model, parameter_values=parameter_values)\n",
    "\n",
    "# solve and plot\n",
    "solution = simulation.solve([0, 3600])\n",
    "simulation.plot()\n"
   ]
  }
 ],
 "metadata": {
  "kernelspec": {
   "display_name": "base",
   "language": "python",
   "name": "python3"
  },
  "language_info": {
   "codemirror_mode": {
    "name": "ipython",
    "version": 3
   },
   "file_extension": ".py",
   "mimetype": "text/x-python",
   "name": "python",
   "nbconvert_exporter": "python",
   "pygments_lexer": "ipython3",
   "version": "3.12.3"
  }
 },
 "nbformat": 4,
 "nbformat_minor": 2
}
