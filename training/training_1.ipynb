{
 "cells": [
  {
   "cell_type": "code",
   "execution_count": null,
   "metadata": {},
   "outputs": [],
   "source": [
    "# !pip uninstall pybamm\n",
    "!pip install pybamm\n",
    "import pybamm"
   ]
  },
  {
   "cell_type": "markdown",
   "metadata": {},
   "source": [
    "## Running a model using PyBaMM"
   ]
  },
  {
   "cell_type": "code",
   "execution_count": null,
   "metadata": {},
   "outputs": [],
   "source": [
    "# create a model, using Dolye-Fuller-Newman (DFN) model with basic settings\n",
    "model = pybamm.lithium_ion.DFN()\n",
    "\n",
    "# create a \"simulation\" object and process the model, ready to be solved\n",
    "simulation = pybamm.Simulation(model)\n",
    "\n",
    "# solve the \"simulation\" object by calling the function \"solve\". Set this to 1C and 1hr \n",
    "simulation.solve([0, 3600])"
   ]
  },
  {
   "cell_type": "code",
   "execution_count": null,
   "metadata": {},
   "outputs": [],
   "source": [
    "# call \"plot\" to generate an interactive plot of the key variables of the simulation\n",
    "simulation.plot()"
   ]
  },
  {
   "cell_type": "markdown",
   "metadata": {},
   "source": [
    "## Comparing multiple models"
   ]
  },
  {
   "cell_type": "code",
   "execution_count": null,
   "metadata": {},
   "outputs": [],
   "source": [
    "# creating a list of models to compare with each other: DFN, SPM, and SPMe\n",
    "models = [\n",
    "    pybamm.lithium_ion.DFN(),\n",
    "    pybamm.litihum_ion.SPM(),\n",
    "    pybamm.lithium_ion.SPMe(),\n",
    "]\n",
    "\n",
    "# loop over the list, create simulation object for each and solve each individually\n",
    "simulations = []\n",
    "for model in models:\n",
    "    simulation = pybamm.Simulation(model)\n",
    "    simulation.solve([0, 3600])\n",
    "    simulations.append(simulation)\n",
    "\n",
    "# now plot the results\n",
    "pybamm.dynamic_plot(simulations)"
   ]
  },
  {
   "cell_type": "markdown",
   "metadata": {},
   "source": [
    "## Basic graph plotting"
   ]
  },
  {
   "cell_type": "code",
   "execution_count": null,
   "metadata": {},
   "outputs": [],
   "source": [
    "# prints a list of plottable variables for a given model\n",
    "model.variable_names()"
   ]
  },
  {
   "cell_type": "code",
   "execution_count": null,
   "metadata": {},
   "outputs": [],
   "source": [
    "# searching the list of variables\n",
    "model.variables.search(\"electrolyte\")"
   ]
  },
  {
   "cell_type": "code",
   "execution_count": null,
   "metadata": {},
   "outputs": [],
   "source": [
    "# create a list of variables to plot (list of strings)\n",
    "output_variables = [\"Voltage [V]\", \"Current [A]\"]\n",
    "simulation.plot(output_variables=output_variables)"
   ]
  },
  {
   "cell_type": "code",
   "execution_count": null,
   "metadata": {},
   "outputs": [],
   "source": [
    "# plotting multiple variables on the same plot using a nested list\n",
    "output_variables = [\n",
    "    \"Voltage [V]\",\n",
    "    [\"Electrode current density [A.m-2]\", \"Electrolyte current density [A.m-2]\"]\n",
    "]\n",
    "simulation.plot(output_variables=output_variables)"
   ]
  },
  {
   "cell_type": "markdown",
   "metadata": {},
   "source": [
    "## Changing parameters\n",
    "Previously, default parameter sets were used. PyBaMM contains a bunch of in-built parameter sets:"
   ]
  },
  {
   "cell_type": "code",
   "execution_count": null,
   "metadata": {},
   "outputs": [],
   "source": [
    "# Li-ion Parameter sets: https://docs.pybamm.org/en/latest/source/api/parameters/parameter_sets.html\n",
    "# using Chen et. al. (2020) set, pass the parameter set to \"simulation\" object as a keyword argument:\n",
    "parameter_values = pybamm.ParameterValues(\"Chen2020\")\n",
    "simulation = pybamm.Simulation(model, parameter_values=parameter_values)\n",
    "\n",
    "# solve and plot\n",
    "solution = simulation.solve([0, 3600])\n",
    "simulation.plot()\n"
   ]
  }
 ],
 "metadata": {
  "kernelspec": {
   "display_name": "base",
   "language": "python",
   "name": "python3"
  },
  "language_info": {
   "codemirror_mode": {
    "name": "ipython",
    "version": 3
   },
   "file_extension": ".py",
   "mimetype": "text/x-python",
   "name": "python",
   "nbconvert_exporter": "python",
   "pygments_lexer": "ipython3",
   "version": "3.12.3"
  }
 },
 "nbformat": 4,
 "nbformat_minor": 2
}
