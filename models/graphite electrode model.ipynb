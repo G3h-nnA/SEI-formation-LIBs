{
 "cells": [
  {
   "cell_type": "markdown",
   "metadata": {},
   "source": [
    "## A parametric sweep of different c-rate at different temperatures"
   ]
  },
  {
   "cell_type": "code",
   "execution_count": 1,
   "metadata": {},
   "outputs": [
    {
     "name": "stderr",
     "output_type": "stream",
     "text": [
      "c:\\ProgramData\\anaconda3\\Lib\\site-packages\\paramiko\\transport.py:219: CryptographyDeprecationWarning: Blowfish has been deprecated and will be removed in a future release\n",
      "  \"class\": algorithms.Blowfish,\n"
     ]
    }
   ],
   "source": [
    "import pybamm as pb\n",
    "import numpy as np\n",
    "import matplotlib.pyplot as plt\n",
    "from func_project import *"
   ]
  },
  {
   "cell_type": "markdown",
   "metadata": {},
   "source": [
    "## graphite model"
   ]
  },
  {
   "cell_type": "code",
   "execution_count": 2,
   "metadata": {},
   "outputs": [],
   "source": [
    "'''\n",
    "    Pre-simulation settings\n",
    "'''\n",
    "# fetch parameter values\n",
    "old_set = pb.ParameterValues(\"Chen2020\")\n",
    "parameters = update_parameter_set(old_set)\n",
    "\n",
    "# mesh settings\n",
    "var_pts = {\"x_n\": 10, \"x_s\": 10, \"x_p\": 10, \"r_n\": 40, \"r_p\": 40}\n",
    "submesh_types = pb.lithium_ion.DFN().default_submesh_types\n",
    "submesh_types[\"negative particle\"] = pb.MeshGenerator(\n",
    "    pb.Exponential1DSubMesh, submesh_params={\"side\": \"right\"}\n",
    ")\n",
    "submesh_types[\"positive particle\"] = pb.MeshGenerator(\n",
    "    pb.Exponential1DSubMesh, submesh_params={\"side\": \"right\"}\n",
    ")\n",
    "\n",
    "# output variables that are of interest\n",
    "output_variables = [\n",
    "    \n",
    "    \"Throughput capacity [A.h]\",\n",
    "    \"Time [h]\",\n",
    "    \"Current [A]\",\n",
    "    \"Voltage [V]\", \n",
    "\n",
    "    \"X-averaged negative total SEI thickness [m]\",\n",
    "    \"Loss of capacity to negative SEI [A.h]\",\n",
    "    \"LLI [%]\",\n",
    "    \"Discharge capacity [A.h]\",\n",
    "    \"X-averaged negative electrode SEI interfacial current density [A.m-2]\",\n",
    "    \n",
    "]"
   ]
  },
  {
   "cell_type": "code",
   "execution_count": null,
   "metadata": {},
   "outputs": [],
   "source": [
    "# coupled DFN model\n",
    "model = pb.lithium_ion.DFN(options={\n",
    "    # submodel options\n",
    "    \"thermal\": \"lumped\",\n",
    "    \"SEI\": \"VonKolzenberg2020\",\n",
    "    \"SEI porosity change\": \"true\",\n",
    "\n",
    "    # misc\n",
    "    \"dimensionality\": 0,\n",
    "    \"cell geometry\": \"arbitrary\",\n",
    "})\n",
    "\n",
    "# write the readable outputs to a text file\n",
    "f = open(\"output_vars.txt\", \"w\")\n",
    "for v in sorted(model.variable_names()):\n",
    "    f.write(f\"{v}\\n\")\n",
    "f.close()"
   ]
  },
  {
   "cell_type": "code",
   "execution_count": null,
   "metadata": {},
   "outputs": [
    {
     "name": "stdout",
     "output_type": "stream",
     "text": [
      "Results for 'Ambient temperature [K]': ['Ambient temperature [K]']\n",
      "Ambient temperature [K] -> 298.15\n",
      "Results for 'Initial temperature [K]': ['Initial temperature [K]']\n",
      "Initial temperature [K] -> 298.15\n",
      "Current experiment: [('Charge at 2C until 4.2 V', 'Rest for 1 hour', 'Discharge at 2C until 2.5 V', 'Rest for 1 hour'), ('Charge at 2C until 4.2 V', 'Rest for 1 hour', 'Discharge at 2C until 2.5 V', 'Rest for 1 hour'), ('Charge at 2C until 4.2 V', 'Rest for 1 hour', 'Discharge at 2C until 2.5 V', 'Rest for 1 hour'), ('Charge at 2C until 4.2 V', 'Rest for 1 hour', 'Discharge at 2C until 2.5 V', 'Rest for 1 hour'), ('Charge at 2C until 4.2 V', 'Rest for 1 hour', 'Discharge at 2C until 2.5 V', 'Rest for 1 hour')]\n",
      " C rate:2C\n",
      " Temperature: 25.0$^o$C\n"
     ]
    },
    {
     "name": "stderr",
     "output_type": "stream",
     "text": [
      "c:\\ProgramData\\anaconda3\\Lib\\site-packages\\pybamm\\simulation.py:122: UserWarning: The default solver changed to IDAKLUSolver after the v25.4.0. release. You can swap back to the previous default by using `pybamm.CasadiSolver()` instead.\n",
      "  self._solver = solver or self._model.default_solver\n"
     ]
    }
   ],
   "source": [
    "# parametric sweep of different C-rates\n",
    "cycles = 5      # after this is done change to a larger number to see long term degradation effects (?)\n",
    "C_rate = \"2C\"      # [\"2C\", \"1C\", \"C/5\", \"C/10\"]\n",
    "\n",
    "exp=pb.Experiment(\n",
    "    [\n",
    "        (\n",
    "            f\"Charge at {C_rate} until 4.2 V\",\n",
    "            \"Rest for 1 hour\",\n",
    "            f\"Discharge at {C_rate} until 2.5 V\",\n",
    "            \"Rest for 1 hour\",\n",
    "        )\n",
    "    ]* cycles\n",
    ")\n",
    "\n",
    "\n",
    "# make a copy of the fetched parameters\n",
    "params = parameters.copy()\n",
    "\n",
    "# converts temperature to Kelvin\n",
    "temps = list(np.asarray([-10, 0, 25, 40]) + 273.15)\n",
    "#temp = 298.15   #[273.15, 298.15, 313.15]\n",
    "\n",
    "# empty solution array\n",
    "graphite_sols = []\n",
    "\n",
    "# loop through different temperatures\n",
    "for temp in temps:\n",
    "    # iteratively update the temperature\n",
    "    params.update({\"Ambient temperature [K]\": temp, \"Initial temperature [K]\": temp,})\n",
    "\n",
    "    # print experiment details\n",
    "    params.search(\"Ambient temperature [K]\")\n",
    "    params.search(\"Initial temperature [K]\")\n",
    "    print(f\"Current experiment: {exp}\\n C rate:{C_rate}\\n Temperature: {temp - 273.15}$^o$C\")\n",
    "\n",
    "    sim = pb.Simulation(\n",
    "        model,\n",
    "        experiment=exp,\n",
    "        parameter_values=params,\n",
    "        submesh_types=submesh_types,\n",
    "        #var_pts=var_pts,\n",
    "    )\n",
    "\n",
    "    sol = sim.solve(initial_soc=0, calc_esoh=False)\n",
    "    graphite_sols.append(sol)\n",
    "    sol.save(f\"graphite_VK_{C_rate}C_{temp}K_{cycles}cycles.pkl\")\n"
   ]
  },
  {
   "cell_type": "code",
   "execution_count": null,
   "metadata": {},
   "outputs": [],
   "source": [
    "plot_results(graphite_sols, C_rates)"
   ]
  }
 ],
 "metadata": {
  "kernelspec": {
   "display_name": "base",
   "language": "python",
   "name": "python3"
  },
  "language_info": {
   "codemirror_mode": {
    "name": "ipython",
    "version": 3
   },
   "file_extension": ".py",
   "mimetype": "text/x-python",
   "name": "python",
   "nbconvert_exporter": "python",
   "pygments_lexer": "ipython3",
   "version": "3.12.3"
  }
 },
 "nbformat": 4,
 "nbformat_minor": 2
}
